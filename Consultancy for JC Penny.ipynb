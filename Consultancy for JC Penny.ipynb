{
 "cells": [
  {
   "cell_type": "markdown",
   "metadata": {},
   "source": [
    "\n",
    "\n",
    "# A Consultancy Job for JC Penney\n",
    "\n"
   ]
  },
  {
   "cell_type": "markdown",
   "metadata": {},
   "source": [
    "## Structure\n",
    "You may structure the project how you wish, but here is a suggested guideline to help you organise your work:\n",
    "\n",
    " 1. Data Exploration - Explore the data and show you understand its structure and relations\n",
    " 2. Data Validation - Check the quality of the data. Is it complete? Are there obvious errors?\n",
    " 3. Data Visualisation - Gain an overall understanding of the data with visualisations\n",
    " 4. Data Analysis = Set some questions and use the data to answer them\n",
    " 5. Data Augmentation - Add new data from another source to bring new insights to the data you already have"
   ]
  },
  {
   "cell_type": "markdown",
   "metadata": {},
   "source": [
    "## 1. Data Exploration"
   ]
  },
  {
   "cell_type": "markdown",
   "metadata": {},
   "source": [
    "Data exploration was carried out to understan the dataset, including its structure, content, and overall characteristics. And also to insights into the types of variables, their data types, and the relationships between them. Then, it proceeds to load the CSV and JSON files into DataFrames using pandas' read_csv() and JSON decoding methods.\n"
   ]
  },
  {
   "cell_type": "markdown",
   "metadata": {},
   "source": [
    "* The required libraries to be used for this consultancy analysis are imported below."
   ]
  },
  {
   "cell_type": "code",
   "execution_count": 1,
   "metadata": {},
   "outputs": [],
   "source": [
    "# We import our libraries needed for this analysis\n",
    "import pandas as pd\n",
    "import numpy as np\n",
    "import matplotlib.pyplot as plt\n",
    "import seaborn as sns\n",
    "import json\n",
    "from textblob import TextBlob"
   ]
  },
  {
   "cell_type": "code",
   "execution_count": 2,
   "metadata": {},
   "outputs": [
    {
     "name": "stdout",
     "output_type": "stream",
     "text": [
      "Products Data:\n",
      "                            Uniq_id           SKU  \\\n",
      "0  b6c0b6bea69c722939585baeac73c13d  pp5006380337   \n",
      "1  93e5272c51d8cce02597e3ce67b7ad0a  pp5006380337   \n",
      "2  013e320f2f2ec0cf5b3ff5418d688528  pp5006380337   \n",
      "3  505e6633d81f2cb7400c0cfa0394c427  pp5006380337   \n",
      "4  d969a8542122e1331e304b09f81a83f6  pp5006380337   \n",
      "\n",
      "                                          Name  \\\n",
      "0  Alfred Dunner® Essential Pull On Capri Pant   \n",
      "1  Alfred Dunner® Essential Pull On Capri Pant   \n",
      "2  Alfred Dunner® Essential Pull On Capri Pant   \n",
      "3  Alfred Dunner® Essential Pull On Capri Pant   \n",
      "4  Alfred Dunner® Essential Pull On Capri Pant   \n",
      "\n",
      "                                         Description  Price  Av_Score  \n",
      "0  Youll return to our Alfred Dunner pull-on capr...  41.09     2.625  \n",
      "1  Youll return to our Alfred Dunner pull-on capr...  41.09     3.000  \n",
      "2  Youll return to our Alfred Dunner pull-on capr...  41.09     2.625  \n",
      "3  Youll return to our Alfred Dunner pull-on capr...  41.09     3.500  \n",
      "4  Youll return to our Alfred Dunner pull-on capr...  41.09     3.125  \n",
      "<class 'pandas.core.frame.DataFrame'>\n",
      "RangeIndex: 7982 entries, 0 to 7981\n",
      "Data columns (total 6 columns):\n",
      " #   Column       Non-Null Count  Dtype  \n",
      "---  ------       --------------  -----  \n",
      " 0   Uniq_id      7982 non-null   object \n",
      " 1   SKU          7915 non-null   object \n",
      " 2   Name         7982 non-null   object \n",
      " 3   Description  7439 non-null   object \n",
      " 4   Price        5816 non-null   float64\n",
      " 5   Av_Score     7982 non-null   float64\n",
      "dtypes: float64(2), object(4)\n",
      "memory usage: 374.3+ KB\n",
      "None\n",
      "Index(['Uniq_id', 'SKU', 'Name', 'Description', 'Price', 'Av_Score'], dtype='object')\n",
      "\n",
      "Reviews Data:\n",
      "                            Uniq_id  Username  Score  \\\n",
      "0  b6c0b6bea69c722939585baeac73c13d  fsdv4141      2   \n",
      "1  b6c0b6bea69c722939585baeac73c13d  krpz1113      1   \n",
      "2  b6c0b6bea69c722939585baeac73c13d  mbmg3241      2   \n",
      "3  b6c0b6bea69c722939585baeac73c13d  zeqg1222      0   \n",
      "4  b6c0b6bea69c722939585baeac73c13d  nvfn3212      3   \n",
      "\n",
      "                                              Review  \n",
      "0  You never have to worry about the fit...Alfred...  \n",
      "1  Good quality fabric. Perfect fit. Washed very ...  \n",
      "2  I do not normally wear pants or capris that ha...  \n",
      "3  I love these capris! They fit true to size and...  \n",
      "4  This product is very comfortable and the fabri...  \n",
      "<class 'pandas.core.frame.DataFrame'>\n",
      "RangeIndex: 39063 entries, 0 to 39062\n",
      "Data columns (total 4 columns):\n",
      " #   Column    Non-Null Count  Dtype \n",
      "---  ------    --------------  ----- \n",
      " 0   Uniq_id   39063 non-null  object\n",
      " 1   Username  39063 non-null  object\n",
      " 2   Score     39063 non-null  int64 \n",
      " 3   Review    39063 non-null  object\n",
      "dtypes: int64(1), object(3)\n",
      "memory usage: 1.2+ MB\n",
      "None\n",
      "Index(['Uniq_id', 'Username', 'Score', 'Review'], dtype='object')\n",
      "\n",
      "Users Data:\n",
      "   Username         DOB          State\n",
      "0  bkpn1412  31.07.1983         Oregon\n",
      "1  gqjs4414  27.07.1998  Massachusetts\n",
      "2  eehe1434  08.08.1950          Idaho\n",
      "3  hkxj1334  03.08.1969        Florida\n",
      "4  jjbd1412  26.07.2001        Georgia\n",
      "<class 'pandas.core.frame.DataFrame'>\n",
      "RangeIndex: 5000 entries, 0 to 4999\n",
      "Data columns (total 3 columns):\n",
      " #   Column    Non-Null Count  Dtype \n",
      "---  ------    --------------  ----- \n",
      " 0   Username  5000 non-null   object\n",
      " 1   DOB       5000 non-null   object\n",
      " 2   State     5000 non-null   object\n",
      "dtypes: object(3)\n",
      "memory usage: 117.3+ KB\n",
      "None\n",
      "Index(['Username', 'DOB', 'State'], dtype='object')\n"
     ]
    }
   ],
   "source": [
    "#Data Exploration showing the structures and relations of the data\n",
    "# Load the CSV files into dataframes\n",
    "products_df = pd.read_csv('products.csv')\n",
    "reviews_df = pd.read_csv('reviews.csv')\n",
    "users_df = pd.read_csv('users.csv')\n",
    "\n",
    "# Displaying basic information about the structure of the Products data\n",
    "print(\"Products Data:\")\n",
    "print(products_df.head())  # Displays the first few rows of the Products dataframe\n",
    "print(products_df.info())  # Displays information about the data types and missing values in the Products dataframe\n",
    "print(products_df.columns)  # Displays the column names of the Products dataframe\n",
    "\n",
    "# Displaying basic information about the structure of the Reviews data\n",
    "print(\"\\nReviews Data:\")\n",
    "print(reviews_df.head())  # Displays the first few rows of the Reviews dataframe\n",
    "print(reviews_df.info())  # Displays information about the data types and missing values in the Reviews dataframe\n",
    "print(reviews_df.columns)  # Displays the column names of the Reviews dataframe\n",
    "\n",
    "# Displaying basic information about the structure of the Users data\n",
    "print(\"\\nUsers Data:\")\n",
    "print(users_df.head())  # Displays the first few rows of the Users dataframe\n",
    "print(users_df.info())  # Displays information about the data types and missing values in the Users dataframe\n",
    "print(users_df.columns)  # Displays the column names of the Users dataframe\n",
    "\n",
    "\n"
   ]
  },
  {
   "cell_type": "markdown",
   "metadata": {},
   "source": [
    " Conducting a summary statistics for the numerical columns of the datasets\n"
   ]
  },
  {
   "cell_type": "code",
   "execution_count": 3,
   "metadata": {},
   "outputs": [
    {
     "name": "stdout",
     "output_type": "stream",
     "text": [
      "              Price     Av_Score\n",
      "count   5816.000000  7982.000000\n",
      "mean     144.776618     2.988683\n",
      "std      499.223719     0.911673\n",
      "min      -65.270000     1.000000\n",
      "25%       40.700000     2.500000\n",
      "50%       58.010000     3.000000\n",
      "75%       87.020000     3.500000\n",
      "max    17122.170000     5.000000\n",
      "\n",
      "Reviews Data:\n",
      "              Score\n",
      "count  39063.000000\n",
      "mean       1.487648\n",
      "std        1.400332\n",
      "min        0.000000\n",
      "25%        0.000000\n",
      "50%        1.000000\n",
      "75%        2.000000\n",
      "max        5.000000\n",
      "\n",
      "Users Data:\n"
     ]
    },
    {
     "data": {
      "text/html": [
       "<div>\n",
       "<style scoped>\n",
       "    .dataframe tbody tr th:only-of-type {\n",
       "        vertical-align: middle;\n",
       "    }\n",
       "\n",
       "    .dataframe tbody tr th {\n",
       "        vertical-align: top;\n",
       "    }\n",
       "\n",
       "    .dataframe thead th {\n",
       "        text-align: right;\n",
       "    }\n",
       "</style>\n",
       "<table border=\"1\" class=\"dataframe\">\n",
       "  <thead>\n",
       "    <tr style=\"text-align: right;\">\n",
       "      <th></th>\n",
       "      <th>Username</th>\n",
       "      <th>DOB</th>\n",
       "      <th>State</th>\n",
       "    </tr>\n",
       "  </thead>\n",
       "  <tbody>\n",
       "    <tr>\n",
       "      <th>count</th>\n",
       "      <td>5000</td>\n",
       "      <td>5000</td>\n",
       "      <td>5000</td>\n",
       "    </tr>\n",
       "    <tr>\n",
       "      <th>unique</th>\n",
       "      <td>4999</td>\n",
       "      <td>52</td>\n",
       "      <td>57</td>\n",
       "    </tr>\n",
       "    <tr>\n",
       "      <th>top</th>\n",
       "      <td>dqft3311</td>\n",
       "      <td>07.08.1953</td>\n",
       "      <td>Massachusetts</td>\n",
       "    </tr>\n",
       "    <tr>\n",
       "      <th>freq</th>\n",
       "      <td>2</td>\n",
       "      <td>112</td>\n",
       "      <td>107</td>\n",
       "    </tr>\n",
       "  </tbody>\n",
       "</table>\n",
       "</div>"
      ],
      "text/plain": [
       "        Username         DOB          State\n",
       "count       5000        5000           5000\n",
       "unique      4999          52             57\n",
       "top     dqft3311  07.08.1953  Massachusetts\n",
       "freq           2         112            107"
      ]
     },
     "execution_count": 3,
     "metadata": {},
     "output_type": "execute_result"
    }
   ],
   "source": [
    "#Summary Statistics\n",
    "print(products_df.describe())  # Displays summary statistics for numerical columns in the Products dataframe\n",
    "print(\"\\nReviews Data:\")\n",
    "print(reviews_df.describe())  # Displays summary statistics for numerical columns in the Reviews dataframe\n",
    "\n",
    "print(\"\\nUsers Data:\")\n",
    "users_df.describe()  # Displays summary statistics for numerical columns in the Users dataframe\n"
   ]
  },
  {
   "cell_type": "markdown",
   "metadata": {},
   "source": [
    "### Data Size of the datasets"
   ]
  },
  {
   "cell_type": "code",
   "execution_count": 4,
   "metadata": {},
   "outputs": [
    {
     "name": "stdout",
     "output_type": "stream",
     "text": [
      "Data Size:\n",
      "Products Dataset Size: (7982, 6)\n",
      "Reviews Dataset Size: (39063, 4)\n",
      "Users Dataset Size: (5000, 3)\n"
     ]
    }
   ],
   "source": [
    "# Data size\n",
    "print(\"Data Size:\")\n",
    "print(\"Products Dataset Size:\", products_df.shape)#Displays the data size in the product data frame\n",
    "print(\"Reviews Dataset Size:\", reviews_df.shape) #Displays the data size in the review data frame\n",
    "print(\"Users Dataset Size:\", users_df.shape) #Displays the data size in the user data frame"
   ]
  },
  {
   "cell_type": "markdown",
   "metadata": {},
   "source": [
    "Loading the json file for reviewers and products"
   ]
  },
  {
   "cell_type": "code",
   "execution_count": 5,
   "metadata": {},
   "outputs": [
    {
     "name": "stdout",
     "output_type": "stream",
     "text": [
      "{'Username': 'bkpn1412', 'DOB': '31.07.1983', 'State': 'Oregon', 'Reviewed': ['cea76118f6a9110a893de2b7654319c0']}\n",
      "{'Username': 'gqjs4414', 'DOB': '27.07.1998', 'State': 'Massachusetts', 'Reviewed': ['fa04fe6c0dd5189f54fe600838da43d3']}\n",
      "{'Username': 'eehe1434', 'DOB': '08.08.1950', 'State': 'Idaho', 'Reviewed': []}\n"
     ]
    }
   ],
   "source": [
    "json_file_path = \"jcpenney_reviewers.json\"  # Specify the path to the JSON file\n",
    "\n",
    "data_list = []  # Initializes an empty list to store JSON objects\n",
    "\n",
    "# Read the JSON file line by line\n",
    "with open(json_file_path, \"r\") as json_file:\n",
    "    for line_number, line in enumerate(json_file, start=1):\n",
    "        try:\n",
    "            # Load each line as a JSON object and append it to the list\n",
    "            json_data = json.loads(line)\n",
    "            data_list.append(json_data)\n",
    "            \n",
    "            # Display each JSON object in the list\n",
    "            print(json_data)\n",
    "            \n",
    "            if len(data_list) == 3:  # Break out of the loop after the first 3 rows\n",
    "                break\n",
    "        except json.JSONDecodeError as e:\n",
    "            print(f\"Error decoding JSON at line {line_number}: {e}\")  # Handles JSON decoding errors and print an error message\n",
    "\n",
    "    \n",
    "    \n",
    "\n",
    "    "
   ]
  },
  {
   "cell_type": "code",
   "execution_count": 6,
   "metadata": {},
   "outputs": [
    {
     "name": "stdout",
     "output_type": "stream",
     "text": [
      "{'uniq_id': 'b6c0b6bea69c722939585baeac73c13d', 'sku': 'pp5006380337', 'name_title': 'Alfred Dunner® Essential Pull On Capri Pant', 'description': 'You\\'ll return to our Alfred Dunner pull-on capris again and again when you want an updated, casual look and all the comfort you love. \\xa0 elastic waistband approx. 19-21\" inseam slash pockets polyester washable imported \\xa0 \\xa0 \\xa0', 'list_price': '41.09', 'sale_price': '24.16', 'category': 'alfred dunner', 'category_tree': 'jcpenney|women|alfred dunner', 'average_product_rating': 2.625, 'product_url': 'http://www.jcpenney.com/alfred-dunner-essential-pull-on-capri-pant/prod.jump?ppId=pp5006380337&catId=cat1002110079&&_dyncharset=UTF-8&urlState=/women/shop-brands/alfred-dunner/yellow/_/N-gkmp33Z132/cat.jump', 'product_image_urls': 'http://s7d9.scene7.com/is/image/JCPenney/DP1228201517142050M.tif?hei=380&amp;wid=380&op_usm=.4,.8,0,0&resmode=sharp2&op_usm=1.5,.8,0,0&resmode=sharp', 'brand': 'Alfred Dunner', 'total_number_reviews': 8, 'Reviews': [{'User': 'fsdv4141', 'Review': 'You never have to worry about the fit...Alfred Dunner clothing sizes are true to size and fits perfectly. Great value for the money.', 'Score': 2}, {'User': 'krpz1113', 'Review': 'Good quality fabric. Perfect fit. Washed very well no iron.', 'Score': 4}, {'User': 'mbmg3241', 'Review': 'I do not normally wear pants or capris that have an elastic waist, but I decided to try these since they were on sale and I loved the color. I was very surprised at how comfortable they are and wear really well even wearing all day. I will buy this style again!', 'Score': 4}, {'User': 'zeqg1222', 'Review': 'I love these capris! They fit true to size and are so comfortable to wear. I am planning to order more of them.', 'Score': 1}, {'User': 'nvfn3212', 'Review': 'This product is very comfortable and the fabric launders very well', 'Score': 1}, {'User': 'aajh3423', 'Review': 'I did not like the fabric. It is 100% polyester I thought it was different.I bought one at the store apprx two monts ago, and I thought it was just like it', 'Score': 5}, {'User': 'usvp2142', 'Review': 'What a great deal. Beautiful Pants. Its more than I expected.', 'Score': 3}, {'User': 'yemw3321', 'Review': 'Alfred Dunner has great pants, good fit and very comfortable', 'Score': 1}], 'Bought With': ['898e42fe937a33e8ce5e900ca7a4d924', '8c02c262567a2267cd207e35637feb1c', 'b62dd54545cdc1a05d8aaa2d25aed996', '0da4c2dcc8cfa0e71200883b00d22b30', '90c46b841e2eeece992c57071387899c']}\n"
     ]
    }
   ],
   "source": [
    "json_file_path = \"jcpenney_products.json\"  # Specifys the path to the JSON file\n",
    "\n",
    "data_list = [] # Initializes an empty list to store JSON objects\n",
    "\n",
    "# Read the JSON file line by line\n",
    "with open(json_file_path, \"r\") as json_file:\n",
    "    for line_number, line in enumerate(json_file, start=1):\n",
    "        try:\n",
    "            # Load each line as a JSON object and append it to the list\n",
    "            json_data = json.loads(line)\n",
    "            data_list.append(json_data)\n",
    "            \n",
    "            # Display each JSON object in the list for the first  row\n",
    "            if len(data_list) <= 1:\n",
    "                print(json_data)\n",
    "        except json.JSONDecodeError as e:\n",
    "            print(f\"Error decoding JSON at line {line_number}: {e}\")  # Handles JSON decoding errors and print an error message\n",
    "\n",
    "\n"
   ]
  },
  {
   "cell_type": "markdown",
   "metadata": {},
   "source": [
    "## 1.b Data Integration"
   ]
  },
  {
   "cell_type": "markdown",
   "metadata": {},
   "source": [
    "Data integration was carried out to combine the information from the (products_df) dataset and the (\"jcpenney_products.json\") to create a comprehensive and unified view using their common value."
   ]
  },
  {
   "cell_type": "markdown",
   "metadata": {},
   "source": [
    "* The common column name for the product_df ('Uniq_id', 'SKU', 'Name', 'Description') and jcpenney_products.json (\"'uniq_id', 'sKU','description'\") didnot correspound, so we have to rename the column for (product_df) dataset."
   ]
  },
  {
   "cell_type": "code",
   "execution_count": 7,
   "metadata": {},
   "outputs": [
    {
     "data": {
      "text/html": [
       "<div>\n",
       "<style scoped>\n",
       "    .dataframe tbody tr th:only-of-type {\n",
       "        vertical-align: middle;\n",
       "    }\n",
       "\n",
       "    .dataframe tbody tr th {\n",
       "        vertical-align: top;\n",
       "    }\n",
       "\n",
       "    .dataframe thead th {\n",
       "        text-align: right;\n",
       "    }\n",
       "</style>\n",
       "<table border=\"1\" class=\"dataframe\">\n",
       "  <thead>\n",
       "    <tr style=\"text-align: right;\">\n",
       "      <th></th>\n",
       "      <th>uniq_id</th>\n",
       "      <th>sKU</th>\n",
       "      <th>Name</th>\n",
       "      <th>description</th>\n",
       "      <th>Price</th>\n",
       "      <th>Av_Score</th>\n",
       "    </tr>\n",
       "  </thead>\n",
       "  <tbody>\n",
       "    <tr>\n",
       "      <th>0</th>\n",
       "      <td>b6c0b6bea69c722939585baeac73c13d</td>\n",
       "      <td>pp5006380337</td>\n",
       "      <td>Alfred Dunner® Essential Pull On Capri Pant</td>\n",
       "      <td>Youll return to our Alfred Dunner pull-on capr...</td>\n",
       "      <td>41.09</td>\n",
       "      <td>2.625</td>\n",
       "    </tr>\n",
       "    <tr>\n",
       "      <th>1</th>\n",
       "      <td>93e5272c51d8cce02597e3ce67b7ad0a</td>\n",
       "      <td>pp5006380337</td>\n",
       "      <td>Alfred Dunner® Essential Pull On Capri Pant</td>\n",
       "      <td>Youll return to our Alfred Dunner pull-on capr...</td>\n",
       "      <td>41.09</td>\n",
       "      <td>3.000</td>\n",
       "    </tr>\n",
       "    <tr>\n",
       "      <th>2</th>\n",
       "      <td>013e320f2f2ec0cf5b3ff5418d688528</td>\n",
       "      <td>pp5006380337</td>\n",
       "      <td>Alfred Dunner® Essential Pull On Capri Pant</td>\n",
       "      <td>Youll return to our Alfred Dunner pull-on capr...</td>\n",
       "      <td>41.09</td>\n",
       "      <td>2.625</td>\n",
       "    </tr>\n",
       "    <tr>\n",
       "      <th>3</th>\n",
       "      <td>505e6633d81f2cb7400c0cfa0394c427</td>\n",
       "      <td>pp5006380337</td>\n",
       "      <td>Alfred Dunner® Essential Pull On Capri Pant</td>\n",
       "      <td>Youll return to our Alfred Dunner pull-on capr...</td>\n",
       "      <td>41.09</td>\n",
       "      <td>3.500</td>\n",
       "    </tr>\n",
       "    <tr>\n",
       "      <th>4</th>\n",
       "      <td>d969a8542122e1331e304b09f81a83f6</td>\n",
       "      <td>pp5006380337</td>\n",
       "      <td>Alfred Dunner® Essential Pull On Capri Pant</td>\n",
       "      <td>Youll return to our Alfred Dunner pull-on capr...</td>\n",
       "      <td>41.09</td>\n",
       "      <td>3.125</td>\n",
       "    </tr>\n",
       "  </tbody>\n",
       "</table>\n",
       "</div>"
      ],
      "text/plain": [
       "                            uniq_id           sKU  \\\n",
       "0  b6c0b6bea69c722939585baeac73c13d  pp5006380337   \n",
       "1  93e5272c51d8cce02597e3ce67b7ad0a  pp5006380337   \n",
       "2  013e320f2f2ec0cf5b3ff5418d688528  pp5006380337   \n",
       "3  505e6633d81f2cb7400c0cfa0394c427  pp5006380337   \n",
       "4  d969a8542122e1331e304b09f81a83f6  pp5006380337   \n",
       "\n",
       "                                          Name  \\\n",
       "0  Alfred Dunner® Essential Pull On Capri Pant   \n",
       "1  Alfred Dunner® Essential Pull On Capri Pant   \n",
       "2  Alfred Dunner® Essential Pull On Capri Pant   \n",
       "3  Alfred Dunner® Essential Pull On Capri Pant   \n",
       "4  Alfred Dunner® Essential Pull On Capri Pant   \n",
       "\n",
       "                                         description  Price  Av_Score  \n",
       "0  Youll return to our Alfred Dunner pull-on capr...  41.09     2.625  \n",
       "1  Youll return to our Alfred Dunner pull-on capr...  41.09     3.000  \n",
       "2  Youll return to our Alfred Dunner pull-on capr...  41.09     2.625  \n",
       "3  Youll return to our Alfred Dunner pull-on capr...  41.09     3.500  \n",
       "4  Youll return to our Alfred Dunner pull-on capr...  41.09     3.125  "
      ]
     },
     "execution_count": 7,
     "metadata": {},
     "output_type": "execute_result"
    }
   ],
   "source": [
    "# Define a dictionary to map old column names to new column names\n",
    "column_mapping = {'Uniq_id': 'uniq_id', 'SKU': 'sKU', 'Description': 'description'}\n",
    "\n",
    "# Use the rename method to replace column names\n",
    "products_df.rename(columns=column_mapping, inplace=True)\n",
    "\n",
    "# Now, 'products_df' has updated column names\n",
    "products_df.head()"
   ]
  },
  {
   "cell_type": "code",
   "execution_count": 8,
   "metadata": {},
   "outputs": [
    {
     "data": {
      "text/html": [
       "<div>\n",
       "<style scoped>\n",
       "    .dataframe tbody tr th:only-of-type {\n",
       "        vertical-align: middle;\n",
       "    }\n",
       "\n",
       "    .dataframe tbody tr th {\n",
       "        vertical-align: top;\n",
       "    }\n",
       "\n",
       "    .dataframe thead th {\n",
       "        text-align: right;\n",
       "    }\n",
       "</style>\n",
       "<table border=\"1\" class=\"dataframe\">\n",
       "  <thead>\n",
       "    <tr style=\"text-align: right;\">\n",
       "      <th></th>\n",
       "      <th>uniq_id</th>\n",
       "      <th>Username</th>\n",
       "      <th>Score</th>\n",
       "      <th>Review</th>\n",
       "    </tr>\n",
       "  </thead>\n",
       "  <tbody>\n",
       "    <tr>\n",
       "      <th>0</th>\n",
       "      <td>b6c0b6bea69c722939585baeac73c13d</td>\n",
       "      <td>fsdv4141</td>\n",
       "      <td>2</td>\n",
       "      <td>You never have to worry about the fit...Alfred...</td>\n",
       "    </tr>\n",
       "    <tr>\n",
       "      <th>1</th>\n",
       "      <td>b6c0b6bea69c722939585baeac73c13d</td>\n",
       "      <td>krpz1113</td>\n",
       "      <td>1</td>\n",
       "      <td>Good quality fabric. Perfect fit. Washed very ...</td>\n",
       "    </tr>\n",
       "    <tr>\n",
       "      <th>2</th>\n",
       "      <td>b6c0b6bea69c722939585baeac73c13d</td>\n",
       "      <td>mbmg3241</td>\n",
       "      <td>2</td>\n",
       "      <td>I do not normally wear pants or capris that ha...</td>\n",
       "    </tr>\n",
       "    <tr>\n",
       "      <th>3</th>\n",
       "      <td>b6c0b6bea69c722939585baeac73c13d</td>\n",
       "      <td>zeqg1222</td>\n",
       "      <td>0</td>\n",
       "      <td>I love these capris! They fit true to size and...</td>\n",
       "    </tr>\n",
       "    <tr>\n",
       "      <th>4</th>\n",
       "      <td>b6c0b6bea69c722939585baeac73c13d</td>\n",
       "      <td>nvfn3212</td>\n",
       "      <td>3</td>\n",
       "      <td>This product is very comfortable and the fabri...</td>\n",
       "    </tr>\n",
       "  </tbody>\n",
       "</table>\n",
       "</div>"
      ],
      "text/plain": [
       "                            uniq_id  Username  Score  \\\n",
       "0  b6c0b6bea69c722939585baeac73c13d  fsdv4141      2   \n",
       "1  b6c0b6bea69c722939585baeac73c13d  krpz1113      1   \n",
       "2  b6c0b6bea69c722939585baeac73c13d  mbmg3241      2   \n",
       "3  b6c0b6bea69c722939585baeac73c13d  zeqg1222      0   \n",
       "4  b6c0b6bea69c722939585baeac73c13d  nvfn3212      3   \n",
       "\n",
       "                                              Review  \n",
       "0  You never have to worry about the fit...Alfred...  \n",
       "1  Good quality fabric. Perfect fit. Washed very ...  \n",
       "2  I do not normally wear pants or capris that ha...  \n",
       "3  I love these capris! They fit true to size and...  \n",
       "4  This product is very comfortable and the fabri...  "
      ]
     },
     "execution_count": 8,
     "metadata": {},
     "output_type": "execute_result"
    }
   ],
   "source": [
    "# Changing uniqe value for review dataset\n",
    "# Define a dictionary to map old column names to new column names\n",
    "column_mapping = {'Uniq_id': 'uniq_id'}\n",
    "\n",
    "# Use the rename method to replace column names\n",
    "reviews_df.rename(columns=column_mapping, inplace=True)\n",
    "\n",
    "# Now, 'products_df' has updated column names\n",
    "reviews_df.head()"
   ]
  },
  {
   "cell_type": "markdown",
   "metadata": {},
   "source": [
    "### Merrging the ('product_df dataset') with the ('product json_file') using their common colum('uniq_id')"
   ]
  },
  {
   "cell_type": "code",
   "execution_count": 9,
   "metadata": {},
   "outputs": [
    {
     "name": "stdout",
     "output_type": "stream",
     "text": [
      "                            uniq_id           sKU  \\\n",
      "0  b6c0b6bea69c722939585baeac73c13d  pp5006380337   \n",
      "1  93e5272c51d8cce02597e3ce67b7ad0a  pp5006380337   \n",
      "2  013e320f2f2ec0cf5b3ff5418d688528  pp5006380337   \n",
      "3  505e6633d81f2cb7400c0cfa0394c427  pp5006380337   \n",
      "4  d969a8542122e1331e304b09f81a83f6  pp5006380337   \n",
      "\n",
      "                                          Name  \\\n",
      "0  Alfred Dunner® Essential Pull On Capri Pant   \n",
      "1  Alfred Dunner® Essential Pull On Capri Pant   \n",
      "2  Alfred Dunner® Essential Pull On Capri Pant   \n",
      "3  Alfred Dunner® Essential Pull On Capri Pant   \n",
      "4  Alfred Dunner® Essential Pull On Capri Pant   \n",
      "\n",
      "                                       description_x  Price  Av_Score  \\\n",
      "0  Youll return to our Alfred Dunner pull-on capr...  41.09     2.625   \n",
      "1  Youll return to our Alfred Dunner pull-on capr...  41.09     3.000   \n",
      "2  Youll return to our Alfred Dunner pull-on capr...  41.09     2.625   \n",
      "3  Youll return to our Alfred Dunner pull-on capr...  41.09     3.500   \n",
      "4  Youll return to our Alfred Dunner pull-on capr...  41.09     3.125   \n",
      "\n",
      "            sku                                   name_title  \\\n",
      "0  pp5006380337  Alfred Dunner® Essential Pull On Capri Pant   \n",
      "1  pp5006380337  Alfred Dunner® Essential Pull On Capri Pant   \n",
      "2  pp5006380337  Alfred Dunner® Essential Pull On Capri Pant   \n",
      "3  pp5006380337  Alfred Dunner® Essential Pull On Capri Pant   \n",
      "4  pp5006380337  Alfred Dunner® Essential Pull On Capri Pant   \n",
      "\n",
      "                                       description_y list_price sale_price  \\\n",
      "0  You'll return to our Alfred Dunner pull-on cap...      41.09      24.16   \n",
      "1  You'll return to our Alfred Dunner pull-on cap...      41.09      24.16   \n",
      "2  You'll return to our Alfred Dunner pull-on cap...      41.09      24.16   \n",
      "3  You'll return to our Alfred Dunner pull-on cap...      41.09      24.16   \n",
      "4  You'll return to our Alfred Dunner pull-on cap...      41.09      24.16   \n",
      "\n",
      "        category                 category_tree  average_product_rating  \\\n",
      "0  alfred dunner  jcpenney|women|alfred dunner                   2.625   \n",
      "1  alfred dunner  jcpenney|women|alfred dunner                   3.000   \n",
      "2       view all       jcpenney|women|view all                   2.625   \n",
      "3       view all       jcpenney|women|view all                   3.500   \n",
      "4       view all       jcpenney|women|view all                   3.125   \n",
      "\n",
      "                                         product_url  \\\n",
      "0  http://www.jcpenney.com/alfred-dunner-essentia...   \n",
      "1  http://www.jcpenney.com/alfred-dunner-essentia...   \n",
      "2  http://www.jcpenney.com/alfred-dunner-essentia...   \n",
      "3  http://www.jcpenney.com/alfred-dunner-essentia...   \n",
      "4  http://www.jcpenney.com/alfred-dunner-essentia...   \n",
      "\n",
      "                                  product_image_urls          brand  \\\n",
      "0  http://s7d9.scene7.com/is/image/JCPenney/DP122...  Alfred Dunner   \n",
      "1  http://s7d9.scene7.com/is/image/JCPenney/DP122...  Alfred Dunner   \n",
      "2  http://s7d9.scene7.com/is/image/JCPenney/DP122...  Alfred Dunner   \n",
      "3  http://s7d9.scene7.com/is/image/JCPenney/DP122...  Alfred Dunner   \n",
      "4  http://s7d9.scene7.com/is/image/JCPenney/DP122...  Alfred Dunner   \n",
      "\n",
      "   total_number_reviews                                            Reviews  \\\n",
      "0                     8  [{'User': 'fsdv4141', 'Review': 'You never hav...   \n",
      "1                     8  [{'User': 'tpcu2211', 'Review': 'You never hav...   \n",
      "2                     8  [{'User': 'pcfg3234', 'Review': 'You never hav...   \n",
      "3                     8  [{'User': 'ngrq4411', 'Review': 'You never hav...   \n",
      "4                     8  [{'User': 'nbmi2334', 'Review': 'You never hav...   \n",
      "\n",
      "                                         Bought With  \n",
      "0  [898e42fe937a33e8ce5e900ca7a4d924, 8c02c262567...  \n",
      "1  [bc9ab3406dcaa84a123b9da862e6367d, 18eb69e8fc2...  \n",
      "2  [3ce70f519a9cfdd85cdbdecd358e5347, b0295c96d2b...  \n",
      "3  [efcd811edccbeb5e67eaa8ef0d991f7c, 7b2cc00171e...  \n",
      "4  [0ca5ad2a218f59eb83eec1e248a0782d, 9869fc8da14...  \n"
     ]
    }
   ],
   "source": [
    "\n",
    "json_file = pd.DataFrame(data_list) # Converts the list of JSON objects to a DataFrame\n",
    "\n",
    "#common key to be merged\n",
    "common_key = 'uniq_id'\n",
    "\n",
    "# Merge the JSON DataFrame with the CSV DataFrame based on the common key\n",
    "merged_data = pd.merge(products_df, json_file, on='uniq_id')\n",
    "\n",
    "print(merged_data.head())  # Displays the first few rows of the merged data\n",
    "\n",
    "\n",
    "merged_data.to_csv('merged_data.csv', index=False)  # Writes the merged data to a new CSV file"
   ]
  },
  {
   "cell_type": "markdown",
   "metadata": {},
   "source": [
    "* Conducting a data exploration for the merged data ('merged_data')"
   ]
  },
  {
   "cell_type": "code",
   "execution_count": 10,
   "metadata": {},
   "outputs": [
    {
     "name": "stdout",
     "output_type": "stream",
     "text": [
      "                            uniq_id           sKU  \\\n",
      "0  b6c0b6bea69c722939585baeac73c13d  pp5006380337   \n",
      "1  93e5272c51d8cce02597e3ce67b7ad0a  pp5006380337   \n",
      "2  013e320f2f2ec0cf5b3ff5418d688528  pp5006380337   \n",
      "3  505e6633d81f2cb7400c0cfa0394c427  pp5006380337   \n",
      "4  d969a8542122e1331e304b09f81a83f6  pp5006380337   \n",
      "\n",
      "                                          Name  \\\n",
      "0  Alfred Dunner® Essential Pull On Capri Pant   \n",
      "1  Alfred Dunner® Essential Pull On Capri Pant   \n",
      "2  Alfred Dunner® Essential Pull On Capri Pant   \n",
      "3  Alfred Dunner® Essential Pull On Capri Pant   \n",
      "4  Alfred Dunner® Essential Pull On Capri Pant   \n",
      "\n",
      "                                       description_x  Price  Av_Score  \\\n",
      "0  Youll return to our Alfred Dunner pull-on capr...  41.09     2.625   \n",
      "1  Youll return to our Alfred Dunner pull-on capr...  41.09     3.000   \n",
      "2  Youll return to our Alfred Dunner pull-on capr...  41.09     2.625   \n",
      "3  Youll return to our Alfred Dunner pull-on capr...  41.09     3.500   \n",
      "4  Youll return to our Alfred Dunner pull-on capr...  41.09     3.125   \n",
      "\n",
      "            sku                                   name_title  \\\n",
      "0  pp5006380337  Alfred Dunner® Essential Pull On Capri Pant   \n",
      "1  pp5006380337  Alfred Dunner® Essential Pull On Capri Pant   \n",
      "2  pp5006380337  Alfred Dunner® Essential Pull On Capri Pant   \n",
      "3  pp5006380337  Alfred Dunner® Essential Pull On Capri Pant   \n",
      "4  pp5006380337  Alfred Dunner® Essential Pull On Capri Pant   \n",
      "\n",
      "                                       description_y list_price sale_price  \\\n",
      "0  You'll return to our Alfred Dunner pull-on cap...      41.09      24.16   \n",
      "1  You'll return to our Alfred Dunner pull-on cap...      41.09      24.16   \n",
      "2  You'll return to our Alfred Dunner pull-on cap...      41.09      24.16   \n",
      "3  You'll return to our Alfred Dunner pull-on cap...      41.09      24.16   \n",
      "4  You'll return to our Alfred Dunner pull-on cap...      41.09      24.16   \n",
      "\n",
      "        category                 category_tree  average_product_rating  \\\n",
      "0  alfred dunner  jcpenney|women|alfred dunner                   2.625   \n",
      "1  alfred dunner  jcpenney|women|alfred dunner                   3.000   \n",
      "2       view all       jcpenney|women|view all                   2.625   \n",
      "3       view all       jcpenney|women|view all                   3.500   \n",
      "4       view all       jcpenney|women|view all                   3.125   \n",
      "\n",
      "                                         product_url  \\\n",
      "0  http://www.jcpenney.com/alfred-dunner-essentia...   \n",
      "1  http://www.jcpenney.com/alfred-dunner-essentia...   \n",
      "2  http://www.jcpenney.com/alfred-dunner-essentia...   \n",
      "3  http://www.jcpenney.com/alfred-dunner-essentia...   \n",
      "4  http://www.jcpenney.com/alfred-dunner-essentia...   \n",
      "\n",
      "                                  product_image_urls          brand  \\\n",
      "0  http://s7d9.scene7.com/is/image/JCPenney/DP122...  Alfred Dunner   \n",
      "1  http://s7d9.scene7.com/is/image/JCPenney/DP122...  Alfred Dunner   \n",
      "2  http://s7d9.scene7.com/is/image/JCPenney/DP122...  Alfred Dunner   \n",
      "3  http://s7d9.scene7.com/is/image/JCPenney/DP122...  Alfred Dunner   \n",
      "4  http://s7d9.scene7.com/is/image/JCPenney/DP122...  Alfred Dunner   \n",
      "\n",
      "   total_number_reviews                                            Reviews  \\\n",
      "0                     8  [{'User': 'fsdv4141', 'Review': 'You never hav...   \n",
      "1                     8  [{'User': 'tpcu2211', 'Review': 'You never hav...   \n",
      "2                     8  [{'User': 'pcfg3234', 'Review': 'You never hav...   \n",
      "3                     8  [{'User': 'ngrq4411', 'Review': 'You never hav...   \n",
      "4                     8  [{'User': 'nbmi2334', 'Review': 'You never hav...   \n",
      "\n",
      "                                         Bought With  \n",
      "0  [898e42fe937a33e8ce5e900ca7a4d924, 8c02c262567...  \n",
      "1  [bc9ab3406dcaa84a123b9da862e6367d, 18eb69e8fc2...  \n",
      "2  [3ce70f519a9cfdd85cdbdecd358e5347, b0295c96d2b...  \n",
      "3  [efcd811edccbeb5e67eaa8ef0d991f7c, 7b2cc00171e...  \n",
      "4  [0ca5ad2a218f59eb83eec1e248a0782d, 9869fc8da14...  \n",
      "<class 'pandas.core.frame.DataFrame'>\n",
      "Int64Index: 7982 entries, 0 to 7981\n",
      "Data columns (total 20 columns):\n",
      " #   Column                  Non-Null Count  Dtype  \n",
      "---  ------                  --------------  -----  \n",
      " 0   uniq_id                 7982 non-null   object \n",
      " 1   sKU                     7915 non-null   object \n",
      " 2   Name                    7982 non-null   object \n",
      " 3   description_x           7439 non-null   object \n",
      " 4   Price                   5816 non-null   float64\n",
      " 5   Av_Score                7982 non-null   float64\n",
      " 6   sku                     7982 non-null   object \n",
      " 7   name_title              7982 non-null   object \n",
      " 8   description_y           7982 non-null   object \n",
      " 9   list_price              7982 non-null   object \n",
      " 10  sale_price              7982 non-null   object \n",
      " 11  category                7982 non-null   object \n",
      " 12  category_tree           7982 non-null   object \n",
      " 13  average_product_rating  7982 non-null   float64\n",
      " 14  product_url             7982 non-null   object \n",
      " 15  product_image_urls      7982 non-null   object \n",
      " 16  brand                   7982 non-null   object \n",
      " 17  total_number_reviews    7982 non-null   int64  \n",
      " 18  Reviews                 7982 non-null   object \n",
      " 19  Bought With             7982 non-null   object \n",
      "dtypes: float64(3), int64(1), object(16)\n",
      "memory usage: 1.3+ MB\n",
      "None\n",
      "Index(['uniq_id', 'sKU', 'Name', 'description_x', 'Price', 'Av_Score', 'sku',\n",
      "       'name_title', 'description_y', 'list_price', 'sale_price', 'category',\n",
      "       'category_tree', 'average_product_rating', 'product_url',\n",
      "       'product_image_urls', 'brand', 'total_number_reviews', 'Reviews',\n",
      "       'Bought With'],\n",
      "      dtype='object')\n"
     ]
    }
   ],
   "source": [
    "# Displaying basic information about the structure of the 'merged_data'\n",
    "print(merged_data.head())   # Displays the first few rows of the Products dataframe\n",
    "print(merged_data.info())   # Displays information about the data types and missing values in the Products dataframe\n",
    "print(merged_data.columns)   # Displays the column names of the Users dataframe"
   ]
  },
  {
   "cell_type": "markdown",
   "metadata": {},
   "source": [
    "## 2. Data Validation"
   ]
  },
  {
   "cell_type": "markdown",
   "metadata": {},
   "source": [
    "Data validation was carried out to reveal the presence of missing values in the datasets and ensure that the data is accurate and free from errors. In addition, to verify that relationships between variables or columns are consistent and align with expectations."
   ]
  },
  {
   "cell_type": "code",
   "execution_count": 11,
   "metadata": {},
   "outputs": [
    {
     "name": "stdout",
     "output_type": "stream",
     "text": [
      "\n",
      "Missing values in Products Data:\n",
      "uniq_id           0\n",
      "sKU              67\n",
      "Name              0\n",
      "description     543\n",
      "Price          2166\n",
      "Av_Score          0\n",
      "dtype: int64\n",
      "\n",
      "Missing values in Reviews Data:\n",
      "uniq_id     0\n",
      "Username    0\n",
      "Score       0\n",
      "Review      0\n",
      "dtype: int64\n",
      "\n",
      "Missing values in Users Data:\n",
      "Username    0\n",
      "DOB         0\n",
      "State       0\n",
      "dtype: int64\n",
      "\n",
      "Data types in Products Data:\n",
      "uniq_id         object\n",
      "sKU             object\n",
      "Name            object\n",
      "description     object\n",
      "Price          float64\n",
      "Av_Score       float64\n",
      "dtype: object\n",
      "\n",
      "Data types in Reviews Data:\n",
      "uniq_id     object\n",
      "Username    object\n",
      "Score        int64\n",
      "Review      object\n",
      "dtype: object\n",
      "\n",
      "Data types in Users Data:\n",
      "Username    object\n",
      "DOB         object\n",
      "State       object\n",
      "dtype: object\n"
     ]
    }
   ],
   "source": [
    "#Data Validation to check the quality of the data and possiblee Errors\n",
    "# Checking for missing values in the Products DataFrame\n",
    "print(\"\\nMissing values in Products Data:\")\n",
    "print(products_df.isnull().sum())  # Displays the sum of missing values for each column in the Products DataFrame\n",
    "\n",
    "# Checking for missing values in the Reviews DataFrame\n",
    "print(\"\\nMissing values in Reviews Data:\")\n",
    "print(reviews_df.isnull().sum())  # Displays the sum of missing values for each column in the Reviews DataFrame\n",
    "\n",
    "# Checking for missing values in the Users DataFrame\n",
    "print(\"\\nMissing values in Users Data:\")\n",
    "print(users_df.isnull().sum())  # Displays the sum of missing values for each column in the Users DataFrame\n",
    "\n",
    "# Checking data types consistency in the Products DataFrame\n",
    "print(\"\\nData types in Products Data:\")\n",
    "print(products_df.dtypes)  # Displays the data types of each column in the Products DataFrame\n",
    "\n",
    "# Checking data types consistency in the Reviews DataFrame\n",
    "print(\"\\nData types in Reviews Data:\")\n",
    "print(reviews_df.dtypes)  # Displays the data types of each column in the Reviews DataFrame\n",
    "\n",
    "# Checking data types consistency in the Users DataFrame\n",
    "print(\"\\nData types in Users Data:\")\n",
    "print(users_df.dtypes)  # Displays the data types of each column in the Users DataFrame\n"
   ]
  },
  {
   "cell_type": "markdown",
   "metadata": {},
   "source": [
    "##### Data Validation for the (merged_data) data"
   ]
  },
  {
   "cell_type": "code",
   "execution_count": 12,
   "metadata": {},
   "outputs": [
    {
     "name": "stdout",
     "output_type": "stream",
     "text": [
      "\n",
      "Missing values in Merged Data:\n",
      "uniq_id                      0\n",
      "sKU                         67\n",
      "Name                         0\n",
      "description_x              543\n",
      "Price                     2166\n",
      "Av_Score                     0\n",
      "sku                          0\n",
      "name_title                   0\n",
      "description_y                0\n",
      "list_price                   0\n",
      "sale_price                   0\n",
      "category                     0\n",
      "category_tree                0\n",
      "average_product_rating       0\n",
      "product_url                  0\n",
      "product_image_urls           0\n",
      "brand                        0\n",
      "total_number_reviews         0\n",
      "Reviews                      0\n",
      "Bought With                  0\n",
      "dtype: int64\n"
     ]
    }
   ],
   "source": [
    "print(\"\\nMissing values in Merged Data:\")\n",
    "print(merged_data.isnull().sum())\n"
   ]
  },
  {
   "cell_type": "markdown",
   "metadata": {},
   "source": [
    "### Fixing the missing values in columns (Price and Description) for ('products_df')\n"
   ]
  },
  {
   "cell_type": "code",
   "execution_count": 13,
   "metadata": {},
   "outputs": [
    {
     "name": "stdout",
     "output_type": "stream",
     "text": [
      "uniq_id        0\n",
      "Name           0\n",
      "description    0\n",
      "Price          0\n",
      "Av_Score       0\n",
      "dtype: int64\n"
     ]
    }
   ],
   "source": [
    "# For price\n",
    "products_df['Price'].fillna(0, inplace=True)\n",
    "\n",
    "# For Description\n",
    "products_df['description'].fillna('No Description', inplace=True)\n",
    "\n",
    "# For SKU, its best i drop it to have a smooth analysis \n",
    "column_to_drop = 'sKU'\n",
    "products_df.drop(columns=column_to_drop, inplace=True)\n",
    "\n",
    "print(products_df.isnull().sum())\n"
   ]
  },
  {
   "cell_type": "markdown",
   "metadata": {},
   "source": [
    " ### Fixing the missing values in columns (Price , Description and sKU ) For the merged data"
   ]
  },
  {
   "cell_type": "code",
   "execution_count": 14,
   "metadata": {},
   "outputs": [
    {
     "name": "stdout",
     "output_type": "stream",
     "text": [
      "uniq_id        0\n",
      "Name           0\n",
      "description    0\n",
      "Price          0\n",
      "Av_Score       0\n",
      "dtype: int64\n"
     ]
    }
   ],
   "source": [
    "# For price\n",
    "merged_data['Price'].fillna(0, inplace=True)\n",
    "\n",
    "# For Description\n",
    "merged_data['description_x'].fillna('No Description', inplace=True)\n",
    "\n",
    "# For SKU, its best i drop it to have a smooth analysis \n",
    "column_to_drop = 'sKU'\n",
    "merged_data.drop(columns=column_to_drop, inplace=True)\n",
    "\n",
    "print(products_df.isnull().sum())"
   ]
  },
  {
   "cell_type": "markdown",
   "metadata": {},
   "source": [
    "### Performing a Sentiment Analysis on Production Description for the Merged Data"
   ]
  },
  {
   "cell_type": "markdown",
   "metadata": {},
   "source": [
    "For this part, a natural language processing technique (NLP) will be used by extracting sentiment polarity from the descirption text to determine the positive, negative or netural sentiments associted with specific producs."
   ]
  },
  {
   "cell_type": "code",
   "execution_count": 15,
   "metadata": {},
   "outputs": [
    {
     "name": "stdout",
     "output_type": "stream",
     "text": [
      "                                          description_x     Sentiment  \\\n",
      "0     Youll return to our Alfred Dunner pull-on capr... -5.551115e-17   \n",
      "1     Youll return to our Alfred Dunner pull-on capr... -5.551115e-17   \n",
      "2     Youll return to our Alfred Dunner pull-on capr... -5.551115e-17   \n",
      "3     Youll return to our Alfred Dunner pull-on capr... -5.551115e-17   \n",
      "4     Youll return to our Alfred Dunner pull-on capr... -5.551115e-17   \n",
      "...                                                 ...           ...   \n",
      "7977  This Hoover® vacuum features dual-stage cyclon...  2.194444e-01   \n",
      "7978  This Hoover® vacuum features dual-stage cyclon...  2.194444e-01   \n",
      "7979  This Hoover® vacuum features dual-stage cyclon...  2.194444e-01   \n",
      "7980                                     No Description  0.000000e+00   \n",
      "7981                                     No Description  0.000000e+00   \n",
      "\n",
      "     Sentiment_Label  \n",
      "0           Negative  \n",
      "1           Negative  \n",
      "2           Negative  \n",
      "3           Negative  \n",
      "4           Negative  \n",
      "...              ...  \n",
      "7977        Positive  \n",
      "7978        Positive  \n",
      "7979        Positive  \n",
      "7980         Neutral  \n",
      "7981         Neutral  \n",
      "\n",
      "[7982 rows x 3 columns]\n"
     ]
    }
   ],
   "source": [
    "# Function to analyze sentiment using TextBlob\n",
    "def analyze_sentiment(description):\n",
    "    if pd.isna(description):  # Check for NaN values\n",
    "        return 0  # or any default value based on your preference\n",
    "    blob = TextBlob(description)\n",
    "    return blob.sentiment.polarity\n",
    "\n",
    "# Apply sentiment analysis to the \"Description\" column\n",
    "merged_data['Sentiment'] = merged_data['description_x'].apply(analyze_sentiment)\n",
    "\n",
    "# Creating a new column for sentiment labels (positive, negative, neutral)\n",
    "merged_data['Sentiment_Label'] = merged_data['Sentiment'].apply(\n",
    "    lambda score: 'Positive' if score > 0 else ('Negative' if score < 0 else 'Neutral')\n",
    ")\n",
    "\n",
    "print(merged_data[['description_x', 'Sentiment', 'Sentiment_Label']])  # Displays the modified DataFrame"
   ]
  },
  {
   "cell_type": "markdown",
   "metadata": {},
   "source": [
    "# 3. Data Visualization"
   ]
  },
  {
   "cell_type": "markdown",
   "metadata": {},
   "source": [
    "* Data visualization was constructed to  understand the temporal dynamics of the data, identify trends and patterns.\n",
    "* The code below utilizes matplotlib.pyplot to create various charts and graphs."
   ]
  },
  {
   "cell_type": "markdown",
   "metadata": {},
   "source": [
    "#### Visualization for the merged data"
   ]
  },
  {
   "cell_type": "code",
   "execution_count": 16,
   "metadata": {},
   "outputs": [
    {
     "data": {
      "image/png": "[encoded data removed]",
      "text/plain": [
       "<Figure size 432x288 with 1 Axes>"
      ]
     },
     "metadata": {
      "needs_background": "light"
     },
     "output_type": "display_data"
    },
    {
     "data": {
      "image/png": "[encoded data removed]",
      "text/plain": [
       "<Figure size 864x576 with 1 Axes>"
      ]
     },
     "metadata": {
      "needs_background": "light"
     },
     "output_type": "display_data"
    },
    {
     "data": {
      "text/plain": [
       "'\\nThe x-axis represents the product price.\\nThe y-axis represents the average product rating.\\nEach point in the scatter plot represents a product.\\n'"
      ]
     },
     "execution_count": 16,
     "metadata": {},
     "output_type": "execute_result"
    }
   ],
   "source": [
    "#Data Visualizatio using the merged  data\n",
    "# Distribution of Price\n",
    "plt.hist(merged_data['Price'], bins=20, color='skyblue', edgecolor='black')\n",
    "plt.title('Distribution of Prices')\n",
    "plt.xlabel('Price')\n",
    "plt.ylabel('Frequency')\n",
    "plt.show() # Displays the plot\n",
    "\n",
    "# Distribution of Price vs. Average Product Rating\n",
    "plt.figure(figsize=(12, 8))\n",
    "sns.scatterplot(x='Price', y='Av_Score', data=merged_data) # Creates a scatter plot \n",
    "# Set labels and title\n",
    "plt.xlabel('Product Price')\n",
    "plt.ylabel('Average Product Rating')\n",
    "plt.title('Scatter Plot of Price vs. Average Product Rating')\n",
    "plt.show() # Displays the plot\n",
    "\n",
    "'''\n",
    "The x-axis represents the product price.\n",
    "The y-axis represents the average product rating.\n",
    "Each point in the scatter plot represents a product.\n",
    "'''\n"
   ]
  },
  {
   "cell_type": "markdown",
   "metadata": {},
   "source": [
    "###### Other Visualization using the unmerged datasets"
   ]
  },
  {
   "cell_type": "code",
   "execution_count": 17,
   "metadata": {},
   "outputs": [
    {
     "data": {
      "image/png": "[encoded data removed]",
      "text/plain": [
       "<Figure size 576x432 with 1 Axes>"
      ]
     },
     "metadata": {
      "needs_background": "light"
     },
     "output_type": "display_data"
    },
    {
     "data": {
      "image/png": "[encoded data removed]",
      "text/plain": [
       "<Figure size 576x432 with 1 Axes>"
      ]
     },
     "metadata": {
      "needs_background": "light"
     },
     "output_type": "display_data"
    },
    {
     "data": {
      "image/png": "[encoded data removed]",
      "text/plain": [
       "<Figure size 1008x864 with 1 Axes>"
      ]
     },
     "metadata": {
      "needs_background": "light"
     },
     "output_type": "display_data"
    }
   ],
   "source": [
    "# Data Visualization to gain an overal understanding of the datasets\n",
    "\n",
    "# Visualize the distribution of score in the reviews data by state\n",
    "plt.figure(figsize=(8, 6))\n",
    "sns.countplot(x='Score', data=reviews_df)\n",
    "plt.title('Distribution of Scores')\n",
    "plt.xlabel('Score')\n",
    "plt.ylabel('State')\n",
    "# the count axis  counts the occurrences of each unique score and visualizes the distribution\n",
    "plt.show()# Displays the plot\n",
    "\n",
    "# Visualize the distribution of Review in the reviews data\n",
    "plt.figure(figsize=(8, 6))\n",
    "sns.countplot(x='Score', data=reviews_df)\n",
    "plt.title('Distribution of Reviews')\n",
    "plt.xlabel('Review')\n",
    "plt.ylabel('Count')\n",
    "# the count axis  counts the occurrences of each unique Reeview and visualizes the distribution\n",
    "plt.show() # Displays the plot\n",
    "\n",
    "# User activity by state\n",
    "plt.figure(figsize=(14, 12))\n",
    "user_activity_by_location = users_df['State'].value_counts().sort_values(ascending=False)\n",
    "user_activity_by_location.plot(kind='bar')\n",
    "sns.countplot(x='State', data=users_df)\n",
    "plt.title('User Activity by State')\n",
    "plt.xlabel('State')\n",
    "plt.ylabel('User Count')\n",
    "plt.show() # Displays the plot"
   ]
  },
  {
   "cell_type": "markdown",
   "metadata": {},
   "source": [
    "### 4. Data Analysis"
   ]
  },
  {
   "cell_type": "markdown",
   "metadata": {},
   "source": [
    "Data analysis was conducted by extracting meaningful insights from data through statistical techniques and computational methods. In the context of this assignment, data analysis aims to answer specific questions and gain deeper understanding of the data. This questions are listed below:\n",
    "\n",
    "-__Average Review Rating by Product Category__: Identifying the product categories with the highest average review ratings can help JC Penney focus on promoting and improving products in those categories.\n",
    "\n",
    "-__Top 10 Most Reviewed Products__: Analyzing the most reviewed products can reveal popular items and areas where JC Penney could potentially expand its product offerings.\n",
    "\n",
    "-__User Influence on Product Reviews__: Understanding the influence of individual users on product reviews can help JC Penney identify influential customers and potentially leverage their opinions for marketing purposes.\n",
    "\n",
    "-__Top 5 most common states among users__: Analyzing the most state among users\n",
    "\n",
    "-__How many unique users wrote a review__: Identifying the total number of users that wrote a review.\n",
    "\n",
    "This analysis was done using the ('merged_data') dataframe."
   ]
  },
  {
   "cell_type": "markdown",
   "metadata": {},
   "source": [
    "##### QUESTION 1: What is the average Review Rating by Product? "
   ]
  },
  {
   "cell_type": "code",
   "execution_count": 18,
   "metadata": {},
   "outputs": [
    {
     "name": "stdout",
     "output_type": "stream",
     "text": [
      "Average Review Rating by Product:\n",
      "                                                   Name     Score\n",
      "0                1 CT. Certified Diamond Solitaire Ring  2.333333\n",
      "1     1 CT. T.W. Certified Diamond 14K White Gold Br...  5.000000\n",
      "2     1 CT. T.W. Certified Diamond 14K White Gold Pr...  1.000000\n",
      "3     1 CT. T.W. Certified Diamond 14K Yellow Gold B...  1.000000\n",
      "4        1 CT. T.W. Diamond 10K White Gold Cluster Ring  0.000000\n",
      "...                                                 ...       ...\n",
      "5996  ¼ CT. T.W. White & Color-Enhanced Black Diamon...  2.000000\n",
      "5997    ½ CT. Princess Certified Diamond Solitaire Ring  1.000000\n",
      "5998  ½ CT. T.W. Diamond 10K Yellow Gold Contoured A...  0.750000\n",
      "5999                      ½ CT. T.W. Diamond Bridal Set  0.000000\n",
      "6000            ⅓ CT. T.W. Diamond 3-Stone Promise Ring  1.000000\n",
      "\n",
      "[6001 rows x 2 columns]\n"
     ]
    }
   ],
   "source": [
    "# Merge the already merged dataset(merge_data) and reviews data on the common column 'uniq_id'\n",
    "merged_data2 = pd.merge(reviews_df,merged_data, on='uniq_id', how='inner')\n",
    "average_rating_by_product = merged_data2.groupby('Name')['Score'].mean().reset_index() # Calculates average review rating by product\n",
    "print(\"Average Review Rating by Product:\")\n",
    "print(average_rating_by_product)"
   ]
  },
  {
   "cell_type": "markdown",
   "metadata": {},
   "source": [
    "##### QUESTION 2: What is the top 10 Most Reviewed product?"
   ]
  },
  {
   "cell_type": "code",
   "execution_count": 19,
   "metadata": {},
   "outputs": [
    {
     "name": "stdout",
     "output_type": "stream",
     "text": [
      "\n",
      "Most Reviewed Product:\n",
      "Top 10 Most Reviewed Products:\n",
      "                                             Product  Review Count\n",
      "0        Stafford® Gunner Mens Cap Toe Leather Boots           144\n",
      "1                Clarks® Leisa Grove Leather Sandals           144\n",
      "2        Xersion™ Quick-Dri Performance Bootcut Pant           104\n",
      "3   Clarks® Leisa Grove Leather Sandals - Wide Width            81\n",
      "4  St. Johns Bay® Secretly Slender Straight-Leg J...            80\n",
      "5              Xersion™ Quick-Dri Performance Capris            80\n",
      "6                          Arizona Harbor Boat Shoes            67\n",
      "7       Liz Claiborne® Rockele Stretch Wedge Sandals            65\n",
      "8  Liz Claiborne® Essential Original-Fit Straight...            64\n",
      "9             Arizona Raglan-Sleeve Thermal Pullover            60\n"
     ]
    }
   ],
   "source": [
    "print(\"\\nMost Reviewed Product:\")\n",
    "# Count the number of reviews for each product, then get the top 10 most reviewed products\n",
    "top_10_most_reviewed = merged_data2['Name'].value_counts().head(10).reset_index()\n",
    "top_10_most_reviewed.columns = ['Product', 'Review Count']\n",
    "print(\"Top 10 Most Reviewed Products:\")\n",
    "print(top_10_most_reviewed)"
   ]
  },
  {
   "cell_type": "markdown",
   "metadata": {},
   "source": [
    "##### QUESTION 3: What is the User influence on product reviews?\n"
   ]
  },
  {
   "cell_type": "code",
   "execution_count": 20,
   "metadata": {},
   "outputs": [
    {
     "name": "stdout",
     "output_type": "stream",
     "text": [
      "\n",
      "User influence on product reviews:\n",
      "   Username  Average_Score  Total_Reviews\n",
      "0  aaez2213       0.900000             10\n",
      "1  aage1132       1.300000             10\n",
      "2  aagf4423       0.888889              9\n",
      "3  aahc4142       1.000000             11\n",
      "4  aajh3423       1.700000             10\n"
     ]
    }
   ],
   "source": [
    "print(\"\\nUser influence on product reviews:\")\n",
    "# Merge reviews and users data on the common column 'Username'\n",
    "merged_data3 = pd.merge(reviews_df, users_df, on='Username', how='inner')\n",
    "\n",
    "# Calculate average review score by user\n",
    "average_score_by_user = merged_data3.groupby('Username')['Score'].mean().reset_index()\n",
    "average_score_by_user.columns = ['Username', 'Average_Score']\n",
    "\n",
    "# Calculate total number of reviews by user\n",
    "total_reviews_by_user = merged_data3['Username'].value_counts().reset_index()\n",
    "total_reviews_by_user.columns = ['Username', 'Total_Reviews']\n",
    "\n",
    "# Merge the calculated metrics\n",
    "user_influence_metrics = pd.merge(average_score_by_user, total_reviews_by_user, on='Username', how='inner')\n",
    "print(user_influence_metrics.head())"
   ]
  },
  {
   "cell_type": "markdown",
   "metadata": {},
   "source": [
    "##### QUESTION 4: What is the top 5 most common states among users?\n"
   ]
  },
  {
   "cell_type": "code",
   "execution_count": 21,
   "metadata": {},
   "outputs": [
    {
     "name": "stdout",
     "output_type": "stream",
     "text": [
      "\n",
      " Top 5 most common states among users:\n",
      "                      State  User Count\n",
      "0             Massachusetts         107\n",
      "1                  Delaware         106\n",
      "2                   Vermont         103\n",
      "3  Northern Mariana Islands         102\n",
      "4                New Jersey         101\n"
     ]
    }
   ],
   "source": [
    "print(\"\\n Top 5 most common states among users:\")\n",
    "# Count the number of users from each state, then get the top 5 most common states\n",
    "top_states = users_df['State'].value_counts().head(5).reset_index()\n",
    "top_states.columns = ['State', 'User Count']\n",
    "print(top_states)\n"
   ]
  },
  {
   "cell_type": "markdown",
   "metadata": {},
   "source": [
    "##### QUESTION 5: How many unique users wrote a review?"
   ]
  },
  {
   "cell_type": "code",
   "execution_count": 22,
   "metadata": {},
   "outputs": [
    {
     "name": "stdout",
     "output_type": "stream",
     "text": [
      "\n",
      "Unique users that wrote a review:\n",
      "Number of Unique Users who have Written Reviews: 4993\n"
     ]
    }
   ],
   "source": [
    "print(\"\\nUnique users that wrote a review:\")\n",
    "# Count the number of unique users who have written reviews\n",
    "unique_users_count = reviews_df['Username'].nunique()\n",
    "print(\"Number of Unique Users who have Written Reviews:\", unique_users_count)\n"
   ]
  },
  {
   "cell_type": "markdown",
   "metadata": {},
   "source": [
    "## 5. Data Augmentation"
   ]
  },
  {
   "cell_type": "markdown",
   "metadata": {},
   "source": [
    "For the data augmentaion combining information from different sources to enhance the already merged  dataset (merged_data.csv). In this case, i want to augment my already merged dataset (merged_data.csv) with information from the new CSV file (myntra_products_catalog_2.csv). For the new dataset the folowing process will be carried out:\n",
    "\n",
    "-__Data Exploration__.\n",
    "-__Data Validation__."
   ]
  },
  {
   "cell_type": "code",
   "execution_count": 23,
   "metadata": {},
   "outputs": [
    {
     "name": "stdout",
     "output_type": "stream",
     "text": [
      "<class 'pandas.core.frame.DataFrame'>\n",
      "RangeIndex: 12491 entries, 0 to 12490\n",
      "Data columns (total 8 columns):\n",
      " #   Column        Non-Null Count  Dtype \n",
      "---  ------        --------------  ----- \n",
      " 0   ProductID     12491 non-null  int64 \n",
      " 1   ProductName   12491 non-null  object\n",
      " 2   ProductBrand  12491 non-null  object\n",
      " 3   Gender        12491 non-null  object\n",
      " 4   Price (INR)   12491 non-null  int64 \n",
      " 5   NumImages     12491 non-null  int64 \n",
      " 6   Description   12491 non-null  object\n",
      " 7   PrimaryColor  11597 non-null  object\n",
      "dtypes: int64(3), object(5)\n",
      "memory usage: 780.8+ KB\n"
     ]
    },
    {
     "data": {
      "text/plain": [
       "Index(['ProductID', 'ProductName', 'ProductBrand', 'Gender', 'Price (INR)',\n",
       "       'NumImages', 'Description', 'PrimaryColor'],\n",
       "      dtype='object')"
      ]
     },
     "execution_count": 23,
     "metadata": {},
     "output_type": "execute_result"
    }
   ],
   "source": [
    "# First thing is to load the new cvs file\n",
    "new_data = pd.read_csv('myntra_products_catalog 2.csv')\n",
    "new_data.head   #Displays the first few rows of the new data\n",
    "new_data.info() # Displays information about the data types and missing values in the (new_data) dataframe\n",
    "new_data.columns # Displays the column names of the (new data) dataframe\n"
   ]
  },
  {
   "cell_type": "markdown",
   "metadata": {},
   "source": [
    "##### Summary statistics for the new data"
   ]
  },
  {
   "cell_type": "code",
   "execution_count": 24,
   "metadata": {},
   "outputs": [
    {
     "data": {
      "text/html": [
       "<div>\n",
       "<style scoped>\n",
       "    .dataframe tbody tr th:only-of-type {\n",
       "        vertical-align: middle;\n",
       "    }\n",
       "\n",
       "    .dataframe tbody tr th {\n",
       "        vertical-align: top;\n",
       "    }\n",
       "\n",
       "    .dataframe thead th {\n",
       "        text-align: right;\n",
       "    }\n",
       "</style>\n",
       "<table border=\"1\" class=\"dataframe\">\n",
       "  <thead>\n",
       "    <tr style=\"text-align: right;\">\n",
       "      <th></th>\n",
       "      <th>ProductID</th>\n",
       "      <th>Price (INR)</th>\n",
       "      <th>NumImages</th>\n",
       "    </tr>\n",
       "  </thead>\n",
       "  <tbody>\n",
       "    <tr>\n",
       "      <th>count</th>\n",
       "      <td>1.249100e+04</td>\n",
       "      <td>12491.000000</td>\n",
       "      <td>12491.000000</td>\n",
       "    </tr>\n",
       "    <tr>\n",
       "      <th>mean</th>\n",
       "      <td>9.917160e+06</td>\n",
       "      <td>1452.660956</td>\n",
       "      <td>4.913698</td>\n",
       "    </tr>\n",
       "    <tr>\n",
       "      <th>std</th>\n",
       "      <td>1.438006e+06</td>\n",
       "      <td>2118.503976</td>\n",
       "      <td>1.092333</td>\n",
       "    </tr>\n",
       "    <tr>\n",
       "      <th>min</th>\n",
       "      <td>1.012060e+05</td>\n",
       "      <td>90.000000</td>\n",
       "      <td>1.000000</td>\n",
       "    </tr>\n",
       "    <tr>\n",
       "      <th>25%</th>\n",
       "      <td>1.006215e+07</td>\n",
       "      <td>649.000000</td>\n",
       "      <td>5.000000</td>\n",
       "    </tr>\n",
       "    <tr>\n",
       "      <th>50%</th>\n",
       "      <td>1.015463e+07</td>\n",
       "      <td>920.000000</td>\n",
       "      <td>5.000000</td>\n",
       "    </tr>\n",
       "    <tr>\n",
       "      <th>75%</th>\n",
       "      <td>1.021565e+07</td>\n",
       "      <td>1499.000000</td>\n",
       "      <td>5.000000</td>\n",
       "    </tr>\n",
       "    <tr>\n",
       "      <th>max</th>\n",
       "      <td>1.027514e+07</td>\n",
       "      <td>63090.000000</td>\n",
       "      <td>10.000000</td>\n",
       "    </tr>\n",
       "  </tbody>\n",
       "</table>\n",
       "</div>"
      ],
      "text/plain": [
       "          ProductID   Price (INR)     NumImages\n",
       "count  1.249100e+04  12491.000000  12491.000000\n",
       "mean   9.917160e+06   1452.660956      4.913698\n",
       "std    1.438006e+06   2118.503976      1.092333\n",
       "min    1.012060e+05     90.000000      1.000000\n",
       "25%    1.006215e+07    649.000000      5.000000\n",
       "50%    1.015463e+07    920.000000      5.000000\n",
       "75%    1.021565e+07   1499.000000      5.000000\n",
       "max    1.027514e+07  63090.000000     10.000000"
      ]
     },
     "execution_count": 24,
     "metadata": {},
     "output_type": "execute_result"
    }
   ],
   "source": [
    "new_data.describe() # Displays summary statistics for numerical columns in the (new_data) dataframe"
   ]
  },
  {
   "cell_type": "markdown",
   "metadata": {},
   "source": [
    "##### Data Validation for the (new data) dataframe"
   ]
  },
  {
   "cell_type": "code",
   "execution_count": 25,
   "metadata": {},
   "outputs": [
    {
     "name": "stdout",
     "output_type": "stream",
     "text": [
      "ProductID         0\n",
      "ProductName       0\n",
      "ProductBrand      0\n",
      "Gender            0\n",
      "Price (INR)       0\n",
      "NumImages         0\n",
      "Description       0\n",
      "PrimaryColor    894\n",
      "dtype: int64\n"
     ]
    }
   ],
   "source": [
    "#Checking for missing values\n",
    "print(new_data.isnull().sum()) # Displays the columns and there missing values"
   ]
  },
  {
   "cell_type": "markdown",
   "metadata": {},
   "source": [
    "##### Fixing the missing Value for the (new_data) dataframe"
   ]
  },
  {
   "cell_type": "code",
   "execution_count": 26,
   "metadata": {},
   "outputs": [
    {
     "name": "stdout",
     "output_type": "stream",
     "text": [
      "ProductID       0\n",
      "ProductName     0\n",
      "ProductBrand    0\n",
      "Gender          0\n",
      "Price (INR)     0\n",
      "NumImages       0\n",
      "Description     0\n",
      "dtype: int64\n"
     ]
    }
   ],
   "source": [
    "# For PrimaryColor, its best i drop it to have a smooth data for analysis as its not a required variable\n",
    "column_to_drop = 'PrimaryColor'\n",
    "new_data.drop(columns=column_to_drop, inplace=True)\n",
    "\n",
    "print(new_data.isnull().sum())"
   ]
  },
  {
   "cell_type": "markdown",
   "metadata": {},
   "source": [
    "##### Data integration for the (new_data) dataframe"
   ]
  },
  {
   "cell_type": "markdown",
   "metadata": {},
   "source": [
    "The common column name for the (merged_data.csv) ('uniq_id', 'description', 'Price') and (myntra_products_catalog_2.csv) which is the(new_data) data frame  ('ProductID','Description', 'Price') did not correspound, so we have to rename the column for (myntra_products_catalog_2.csv)."
   ]
  },
  {
   "cell_type": "code",
   "execution_count": 27,
   "metadata": {},
   "outputs": [
    {
     "data": {
      "text/html": [
       "<div>\n",
       "<style scoped>\n",
       "    .dataframe tbody tr th:only-of-type {\n",
       "        vertical-align: middle;\n",
       "    }\n",
       "\n",
       "    .dataframe tbody tr th {\n",
       "        vertical-align: top;\n",
       "    }\n",
       "\n",
       "    .dataframe thead th {\n",
       "        text-align: right;\n",
       "    }\n",
       "</style>\n",
       "<table border=\"1\" class=\"dataframe\">\n",
       "  <thead>\n",
       "    <tr style=\"text-align: right;\">\n",
       "      <th></th>\n",
       "      <th>uniq_id</th>\n",
       "      <th>ProductName</th>\n",
       "      <th>ProductBrand</th>\n",
       "      <th>Gender</th>\n",
       "      <th>Price</th>\n",
       "      <th>NumImages</th>\n",
       "      <th>description_x</th>\n",
       "    </tr>\n",
       "  </thead>\n",
       "  <tbody>\n",
       "    <tr>\n",
       "      <th>0</th>\n",
       "      <td>10017413</td>\n",
       "      <td>DKNY Unisex Black &amp; Grey Printed Medium Trolle...</td>\n",
       "      <td>DKNY</td>\n",
       "      <td>Unisex</td>\n",
       "      <td>11745</td>\n",
       "      <td>7</td>\n",
       "      <td>Black and grey printed medium trolley bag, sec...</td>\n",
       "    </tr>\n",
       "    <tr>\n",
       "      <th>1</th>\n",
       "      <td>10016283</td>\n",
       "      <td>EthnoVogue Women Beige &amp; Grey Made to Measure ...</td>\n",
       "      <td>EthnoVogue</td>\n",
       "      <td>Women</td>\n",
       "      <td>5810</td>\n",
       "      <td>7</td>\n",
       "      <td>Beige &amp; Grey made to measure kurta with churid...</td>\n",
       "    </tr>\n",
       "    <tr>\n",
       "      <th>2</th>\n",
       "      <td>10009781</td>\n",
       "      <td>SPYKAR Women Pink Alexa Super Skinny Fit High-...</td>\n",
       "      <td>SPYKAR</td>\n",
       "      <td>Women</td>\n",
       "      <td>899</td>\n",
       "      <td>7</td>\n",
       "      <td>Pink coloured wash 5-pocket high-rise cropped ...</td>\n",
       "    </tr>\n",
       "    <tr>\n",
       "      <th>3</th>\n",
       "      <td>10015921</td>\n",
       "      <td>Raymond Men Blue Self-Design Single-Breasted B...</td>\n",
       "      <td>Raymond</td>\n",
       "      <td>Men</td>\n",
       "      <td>5599</td>\n",
       "      <td>5</td>\n",
       "      <td>Blue self-design bandhgala suitBlue self-desig...</td>\n",
       "    </tr>\n",
       "    <tr>\n",
       "      <th>4</th>\n",
       "      <td>10017833</td>\n",
       "      <td>Parx Men Brown &amp; Off-White Slim Fit Printed Ca...</td>\n",
       "      <td>Parx</td>\n",
       "      <td>Men</td>\n",
       "      <td>759</td>\n",
       "      <td>5</td>\n",
       "      <td>Brown and off-white printed casual shirt, has ...</td>\n",
       "    </tr>\n",
       "    <tr>\n",
       "      <th>5</th>\n",
       "      <td>10014361</td>\n",
       "      <td>SHOWOFF Men Brown Solid Slim Fit Regular Shorts</td>\n",
       "      <td>SHOWOFF</td>\n",
       "      <td>Men</td>\n",
       "      <td>791</td>\n",
       "      <td>5</td>\n",
       "      <td>Brown solid low-rise regular shorts, has four ...</td>\n",
       "    </tr>\n",
       "    <tr>\n",
       "      <th>6</th>\n",
       "      <td>10017869</td>\n",
       "      <td>Parx Men Blue Slim Fit Checked Casual Shirt</td>\n",
       "      <td>Parx</td>\n",
       "      <td>Men</td>\n",
       "      <td>719</td>\n",
       "      <td>5</td>\n",
       "      <td>Blue checked casual shirt, has a spread collar...</td>\n",
       "    </tr>\n",
       "    <tr>\n",
       "      <th>7</th>\n",
       "      <td>10009695</td>\n",
       "      <td>SPYKAR Women Burgundy Alexa Super Skinny Fit H...</td>\n",
       "      <td>SPYKAR</td>\n",
       "      <td>Women</td>\n",
       "      <td>899</td>\n",
       "      <td>7</td>\n",
       "      <td>Burgundy coloured wash 5-pocket high-rise jean...</td>\n",
       "    </tr>\n",
       "    <tr>\n",
       "      <th>8</th>\n",
       "      <td>10000571</td>\n",
       "      <td>Parx Men Brown Tapered Fit Solid Regular Trousers</td>\n",
       "      <td>Parx</td>\n",
       "      <td>Men</td>\n",
       "      <td>664</td>\n",
       "      <td>5</td>\n",
       "      <td>Brown solid regular trousers regular trousers</td>\n",
       "    </tr>\n",
       "    <tr>\n",
       "      <th>9</th>\n",
       "      <td>10017421</td>\n",
       "      <td>DKNY Unisex Black Large Trolley Bag</td>\n",
       "      <td>DKNY</td>\n",
       "      <td>Unisex</td>\n",
       "      <td>17360</td>\n",
       "      <td>5</td>\n",
       "      <td>Black solid large trolley bag, secured with a ...</td>\n",
       "    </tr>\n",
       "  </tbody>\n",
       "</table>\n",
       "</div>"
      ],
      "text/plain": [
       "    uniq_id                                        ProductName ProductBrand  \\\n",
       "0  10017413  DKNY Unisex Black & Grey Printed Medium Trolle...         DKNY   \n",
       "1  10016283  EthnoVogue Women Beige & Grey Made to Measure ...   EthnoVogue   \n",
       "2  10009781  SPYKAR Women Pink Alexa Super Skinny Fit High-...       SPYKAR   \n",
       "3  10015921  Raymond Men Blue Self-Design Single-Breasted B...      Raymond   \n",
       "4  10017833  Parx Men Brown & Off-White Slim Fit Printed Ca...         Parx   \n",
       "5  10014361    SHOWOFF Men Brown Solid Slim Fit Regular Shorts      SHOWOFF   \n",
       "6  10017869        Parx Men Blue Slim Fit Checked Casual Shirt         Parx   \n",
       "7  10009695  SPYKAR Women Burgundy Alexa Super Skinny Fit H...       SPYKAR   \n",
       "8  10000571  Parx Men Brown Tapered Fit Solid Regular Trousers         Parx   \n",
       "9  10017421                DKNY Unisex Black Large Trolley Bag         DKNY   \n",
       "\n",
       "   Gender  Price  NumImages                                      description_x  \n",
       "0  Unisex  11745          7  Black and grey printed medium trolley bag, sec...  \n",
       "1   Women   5810          7  Beige & Grey made to measure kurta with churid...  \n",
       "2   Women    899          7  Pink coloured wash 5-pocket high-rise cropped ...  \n",
       "3     Men   5599          5  Blue self-design bandhgala suitBlue self-desig...  \n",
       "4     Men    759          5  Brown and off-white printed casual shirt, has ...  \n",
       "5     Men    791          5  Brown solid low-rise regular shorts, has four ...  \n",
       "6     Men    719          5  Blue checked casual shirt, has a spread collar...  \n",
       "7   Women    899          7  Burgundy coloured wash 5-pocket high-rise jean...  \n",
       "8     Men    664          5      Brown solid regular trousers regular trousers  \n",
       "9  Unisex  17360          5  Black solid large trolley bag, secured with a ...  "
      ]
     },
     "execution_count": 27,
     "metadata": {},
     "output_type": "execute_result"
    }
   ],
   "source": [
    "# Define a dictionary to map old column names to new column names\n",
    "column_mapping = {'ProductID': 'uniq_id', 'Description': 'description_x', 'Price (INR)': 'Price'}\n",
    "\n",
    "new_data.rename(columns=column_mapping, inplace=True) # Uses the rename method to replace column names\n",
    "\n",
    "# No the 'products_df' has updated column names\n",
    "new_data.head(10) #Displays the first 10 rows of the dataset and its columns"
   ]
  },
  {
   "cell_type": "markdown",
   "metadata": {},
   "source": [
    "From the above data, it is clearly seen the 'price' Column for (new_data) data frame  is not in a float format or decimal format. A data cleaning will be carried out on the price column."
   ]
  },
  {
   "cell_type": "code",
   "execution_count": 28,
   "metadata": {},
   "outputs": [
    {
     "name": "stdout",
     "output_type": "stream",
     "text": [
      "        uniq_id                                        ProductName  \\\n",
      "0      10017413  DKNY Unisex Black & Grey Printed Medium Trolle...   \n",
      "1      10016283  EthnoVogue Women Beige & Grey Made to Measure ...   \n",
      "2      10009781  SPYKAR Women Pink Alexa Super Skinny Fit High-...   \n",
      "3      10015921  Raymond Men Blue Self-Design Single-Breasted B...   \n",
      "4      10017833  Parx Men Brown & Off-White Slim Fit Printed Ca...   \n",
      "...         ...                                                ...   \n",
      "12486  10262843  Pepe Jeans Men Black Hammock Slim Fit Low-Rise...   \n",
      "12487  10261721                 Mochi Women Gold-Toned Solid Heels   \n",
      "12488  10261607  612 league Girls Navy Blue & White Printed Reg...   \n",
      "12489  10266621  Bvlgari Men Aqva Pour Homme Marine Eau de Toil...   \n",
      "12490  10265199  Pepe Jeans Men Black & Grey Striped Polo Colla...   \n",
      "\n",
      "      ProductBrand  Gender    Price  NumImages  \\\n",
      "0             DKNY  Unisex  11745.0          7   \n",
      "1       EthnoVogue   Women   5810.0          7   \n",
      "2           SPYKAR   Women    899.0          7   \n",
      "3          Raymond     Men   5599.0          5   \n",
      "4             Parx     Men    759.0          5   \n",
      "...            ...     ...      ...        ...   \n",
      "12486   Pepe Jeans     Men   1299.0          7   \n",
      "12487        Mochi   Women   1990.0          5   \n",
      "12488   612 league   Girls    602.0          4   \n",
      "12489      Bvlgari     Men   8950.0          2   \n",
      "12490   Pepe Jeans     Men    799.0          5   \n",
      "\n",
      "                                           description_x  \n",
      "0      Black and grey printed medium trolley bag, sec...  \n",
      "1      Beige & Grey made to measure kurta with churid...  \n",
      "2      Pink coloured wash 5-pocket high-rise cropped ...  \n",
      "3      Blue self-design bandhgala suitBlue self-desig...  \n",
      "4      Brown and off-white printed casual shirt, has ...  \n",
      "...                                                  ...  \n",
      "12486  Black dark wash 5-pocket low-rise jeans, clean...  \n",
      "12487  A pair of gold-toned open toe heels, has regul...  \n",
      "12488  Navy Blue and White printed mid-rise denim sho...  \n",
      "12489  Bvlgari Men Aqva Pour Homme Marine Eau de Toil...  \n",
      "12490  Black and grey striped T-shirt, has a polo col...  \n",
      "\n",
      "[12491 rows x 7 columns]\n"
     ]
    },
    {
     "data": {
      "text/html": [
       "<div>\n",
       "<style scoped>\n",
       "    .dataframe tbody tr th:only-of-type {\n",
       "        vertical-align: middle;\n",
       "    }\n",
       "\n",
       "    .dataframe tbody tr th {\n",
       "        vertical-align: top;\n",
       "    }\n",
       "\n",
       "    .dataframe thead th {\n",
       "        text-align: right;\n",
       "    }\n",
       "</style>\n",
       "<table border=\"1\" class=\"dataframe\">\n",
       "  <thead>\n",
       "    <tr style=\"text-align: right;\">\n",
       "      <th></th>\n",
       "      <th>uniq_id</th>\n",
       "      <th>ProductName</th>\n",
       "      <th>ProductBrand</th>\n",
       "      <th>Gender</th>\n",
       "      <th>Price</th>\n",
       "      <th>NumImages</th>\n",
       "      <th>description_x</th>\n",
       "    </tr>\n",
       "  </thead>\n",
       "  <tbody>\n",
       "    <tr>\n",
       "      <th>0</th>\n",
       "      <td>10017413</td>\n",
       "      <td>DKNY Unisex Black &amp; Grey Printed Medium Trolle...</td>\n",
       "      <td>DKNY</td>\n",
       "      <td>Unisex</td>\n",
       "      <td>11745.0</td>\n",
       "      <td>7</td>\n",
       "      <td>Black and grey printed medium trolley bag, sec...</td>\n",
       "    </tr>\n",
       "    <tr>\n",
       "      <th>1</th>\n",
       "      <td>10016283</td>\n",
       "      <td>EthnoVogue Women Beige &amp; Grey Made to Measure ...</td>\n",
       "      <td>EthnoVogue</td>\n",
       "      <td>Women</td>\n",
       "      <td>5810.0</td>\n",
       "      <td>7</td>\n",
       "      <td>Beige &amp; Grey made to measure kurta with churid...</td>\n",
       "    </tr>\n",
       "    <tr>\n",
       "      <th>2</th>\n",
       "      <td>10009781</td>\n",
       "      <td>SPYKAR Women Pink Alexa Super Skinny Fit High-...</td>\n",
       "      <td>SPYKAR</td>\n",
       "      <td>Women</td>\n",
       "      <td>899.0</td>\n",
       "      <td>7</td>\n",
       "      <td>Pink coloured wash 5-pocket high-rise cropped ...</td>\n",
       "    </tr>\n",
       "    <tr>\n",
       "      <th>3</th>\n",
       "      <td>10015921</td>\n",
       "      <td>Raymond Men Blue Self-Design Single-Breasted B...</td>\n",
       "      <td>Raymond</td>\n",
       "      <td>Men</td>\n",
       "      <td>5599.0</td>\n",
       "      <td>5</td>\n",
       "      <td>Blue self-design bandhgala suitBlue self-desig...</td>\n",
       "    </tr>\n",
       "    <tr>\n",
       "      <th>4</th>\n",
       "      <td>10017833</td>\n",
       "      <td>Parx Men Brown &amp; Off-White Slim Fit Printed Ca...</td>\n",
       "      <td>Parx</td>\n",
       "      <td>Men</td>\n",
       "      <td>759.0</td>\n",
       "      <td>5</td>\n",
       "      <td>Brown and off-white printed casual shirt, has ...</td>\n",
       "    </tr>\n",
       "  </tbody>\n",
       "</table>\n",
       "</div>"
      ],
      "text/plain": [
       "    uniq_id                                        ProductName ProductBrand  \\\n",
       "0  10017413  DKNY Unisex Black & Grey Printed Medium Trolle...         DKNY   \n",
       "1  10016283  EthnoVogue Women Beige & Grey Made to Measure ...   EthnoVogue   \n",
       "2  10009781  SPYKAR Women Pink Alexa Super Skinny Fit High-...       SPYKAR   \n",
       "3  10015921  Raymond Men Blue Self-Design Single-Breasted B...      Raymond   \n",
       "4  10017833  Parx Men Brown & Off-White Slim Fit Printed Ca...         Parx   \n",
       "\n",
       "   Gender    Price  NumImages  \\\n",
       "0  Unisex  11745.0          7   \n",
       "1   Women   5810.0          7   \n",
       "2   Women    899.0          7   \n",
       "3     Men   5599.0          5   \n",
       "4     Men    759.0          5   \n",
       "\n",
       "                                       description_x  \n",
       "0  Black and grey printed medium trolley bag, sec...  \n",
       "1  Beige & Grey made to measure kurta with churid...  \n",
       "2  Pink coloured wash 5-pocket high-rise cropped ...  \n",
       "3  Blue self-design bandhgala suitBlue self-desig...  \n",
       "4  Brown and off-white printed casual shirt, has ...  "
      ]
     },
     "execution_count": 28,
     "metadata": {},
     "output_type": "execute_result"
    }
   ],
   "source": [
    "# Convert the 'Price'column to numeric data type(float) as seen in the (merge_data) and round to 2 decimal places\n",
    "new_data['Price'] = new_data['Price'].astype(float).round(2)\n",
    "\n",
    "print(new_data)\n",
    "new_data['Price'] = new_data['Price'].astype(float).round(2)\n",
    "\n",
    "new_data.head()"
   ]
  },
  {
   "cell_type": "markdown",
   "metadata": {},
   "source": [
    "### Merging the (merged_data) and the (new_data) using their common column name \"uniq_id\""
   ]
  },
  {
   "cell_type": "code",
   "execution_count": 29,
   "metadata": {},
   "outputs": [
    {
     "data": {
      "text/html": [
       "<div>\n",
       "<style scoped>\n",
       "    .dataframe tbody tr th:only-of-type {\n",
       "        vertical-align: middle;\n",
       "    }\n",
       "\n",
       "    .dataframe tbody tr th {\n",
       "        vertical-align: top;\n",
       "    }\n",
       "\n",
       "    .dataframe thead th {\n",
       "        text-align: right;\n",
       "    }\n",
       "</style>\n",
       "<table border=\"1\" class=\"dataframe\">\n",
       "  <thead>\n",
       "    <tr style=\"text-align: right;\">\n",
       "      <th></th>\n",
       "      <th>uniq_id_x</th>\n",
       "      <th>Name</th>\n",
       "      <th>description_x_x</th>\n",
       "      <th>Price</th>\n",
       "      <th>Av_Score</th>\n",
       "      <th>sku</th>\n",
       "      <th>name_title</th>\n",
       "      <th>description_y</th>\n",
       "      <th>list_price</th>\n",
       "      <th>sale_price</th>\n",
       "      <th>...</th>\n",
       "      <th>Reviews</th>\n",
       "      <th>Bought With</th>\n",
       "      <th>Sentiment</th>\n",
       "      <th>Sentiment_Label</th>\n",
       "      <th>uniq_id_y</th>\n",
       "      <th>ProductName</th>\n",
       "      <th>ProductBrand</th>\n",
       "      <th>Gender</th>\n",
       "      <th>NumImages</th>\n",
       "      <th>description_x_y</th>\n",
       "    </tr>\n",
       "  </thead>\n",
       "  <tbody>\n",
       "    <tr>\n",
       "      <th>0</th>\n",
       "      <td>d18bc79994ff35a2bca40977f81c4bc7</td>\n",
       "      <td>St. Johns Bay® Jamie Womens Suede Slouch Boots</td>\n",
       "      <td>Our Jamie suede slouch boots are soft, supple ...</td>\n",
       "      <td>223.0</td>\n",
       "      <td>3.800000</td>\n",
       "      <td>pp5006480004</td>\n",
       "      <td>St. John's Bay® Jamie Womens Suede Slouch Boots</td>\n",
       "      <td>Our Jamie suede slouch boots are soft, supple ...</td>\n",
       "      <td>223.00</td>\n",
       "      <td>66.90</td>\n",
       "      <td>...</td>\n",
       "      <td>[{'User': 'tpjz4113', 'Review': 'every time I ...</td>\n",
       "      <td>[16064243a2fb997eb77852b200dbf7f9, cb0768924f7...</td>\n",
       "      <td>0.220000</td>\n",
       "      <td>Positive</td>\n",
       "      <td>10248063</td>\n",
       "      <td>U.S. Polo Assn. Men Navy Blue Solid Trunks I64...</td>\n",
       "      <td>U.S. Polo Assn.</td>\n",
       "      <td>Men</td>\n",
       "      <td>4</td>\n",
       "      <td>Navy blue solid trunks, with an outer elastica...</td>\n",
       "    </tr>\n",
       "    <tr>\n",
       "      <th>1</th>\n",
       "      <td>d2a5ad88091a614e2a45987ad967250f</td>\n",
       "      <td>Samsung 7.5 Cu. Ft. Electric Dryer with Steam Dry</td>\n",
       "      <td>true Skip the dry cleaners with this powerful ...</td>\n",
       "      <td>1063.0</td>\n",
       "      <td>2.454545</td>\n",
       "      <td>pp5006420444</td>\n",
       "      <td>Samsung 7.5 Cu. Ft. Electric Dryer with Steam Dry</td>\n",
       "      <td>true Skip the dry cleaners with this powerful ...</td>\n",
       "      <td>1063.00</td>\n",
       "      <td>956.58</td>\n",
       "      <td>...</td>\n",
       "      <td>[{'User': 'yaal4342', 'Review': 'After two loa...</td>\n",
       "      <td>[fd5481319128d684c6778910529ee9db, e17fc1a2ad3...</td>\n",
       "      <td>0.224026</td>\n",
       "      <td>Positive</td>\n",
       "      <td>10037175</td>\n",
       "      <td>Shaily Orange Solid Satin Saree</td>\n",
       "      <td>Shaily</td>\n",
       "      <td>Women</td>\n",
       "      <td>5</td>\n",
       "      <td>Design Detail:Orange   solid saree and has an ...</td>\n",
       "    </tr>\n",
       "    <tr>\n",
       "      <th>2</th>\n",
       "      <td>aae6a185a8dde153e40d8a6ed271998d</td>\n",
       "      <td>GE® ENERGY STAR® 7.8 Cu. ft. Electric Dryer</td>\n",
       "      <td>true Meeting or exceeding federal guidelines f...</td>\n",
       "      <td>1063.0</td>\n",
       "      <td>3.375000</td>\n",
       "      <td>pp5006301041</td>\n",
       "      <td>GE® ENERGY STAR® 7.8 Cu. ft. Electric Dryer</td>\n",
       "      <td>true Meeting or exceeding federal guidelines f...</td>\n",
       "      <td>1063.00</td>\n",
       "      <td>956.58</td>\n",
       "      <td>...</td>\n",
       "      <td>[{'User': 'obfo3424', 'Review': 'Ive only had ...</td>\n",
       "      <td>[5c9646aa07ba1087640af66d1ea4a528, 102b1adda81...</td>\n",
       "      <td>0.208333</td>\n",
       "      <td>Positive</td>\n",
       "      <td>10037175</td>\n",
       "      <td>Shaily Orange Solid Satin Saree</td>\n",
       "      <td>Shaily</td>\n",
       "      <td>Women</td>\n",
       "      <td>5</td>\n",
       "      <td>Design Detail:Orange   solid saree and has an ...</td>\n",
       "    </tr>\n",
       "    <tr>\n",
       "      <th>3</th>\n",
       "      <td>b31700da42b1a5363e7243a498e1ebd3</td>\n",
       "      <td>Samsung 7.5 Cu. Ft. Gas Dryer</td>\n",
       "      <td>true Get all the power you need with this elec...</td>\n",
       "      <td>1063.0</td>\n",
       "      <td>3.250000</td>\n",
       "      <td>pp5006420604</td>\n",
       "      <td>Samsung 7.5 Cu. Ft. Gas Dryer</td>\n",
       "      <td>true Get all the power you need with this elec...</td>\n",
       "      <td>1063.00</td>\n",
       "      <td>767.39</td>\n",
       "      <td>...</td>\n",
       "      <td>[{'User': 'qoed4212', 'Review': 'I love the fe...</td>\n",
       "      <td>[2841e1f47d569c3faf3eefc032c43d0a, 4c475183c38...</td>\n",
       "      <td>0.236147</td>\n",
       "      <td>Positive</td>\n",
       "      <td>10037175</td>\n",
       "      <td>Shaily Orange Solid Satin Saree</td>\n",
       "      <td>Shaily</td>\n",
       "      <td>Women</td>\n",
       "      <td>5</td>\n",
       "      <td>Design Detail:Orange   solid saree and has an ...</td>\n",
       "    </tr>\n",
       "    <tr>\n",
       "      <th>4</th>\n",
       "      <td>a00bbd447d31c7c687e580c79bbf354d</td>\n",
       "      <td>LG ENERGY STAR® 7.4 Cu. Ft. Ultra Large Capaci...</td>\n",
       "      <td>true Getting your laundry fresh and dry has ne...</td>\n",
       "      <td>1063.0</td>\n",
       "      <td>3.222222</td>\n",
       "      <td>pp5006380172</td>\n",
       "      <td>LG ENERGY STAR® 7.4 Cu. Ft. Ultra Large Capaci...</td>\n",
       "      <td>true Getting your laundry fresh and dry has ne...</td>\n",
       "      <td>1063.00</td>\n",
       "      <td>826.52</td>\n",
       "      <td>...</td>\n",
       "      <td>[{'User': 'tcwd2342', 'Review': 'I popped in m...</td>\n",
       "      <td>[aca66ae822b34e3470d7cf68675f04a5, b07c381dd99...</td>\n",
       "      <td>0.196710</td>\n",
       "      <td>Positive</td>\n",
       "      <td>10037175</td>\n",
       "      <td>Shaily Orange Solid Satin Saree</td>\n",
       "      <td>Shaily</td>\n",
       "      <td>Women</td>\n",
       "      <td>5</td>\n",
       "      <td>Design Detail:Orange   solid saree and has an ...</td>\n",
       "    </tr>\n",
       "  </tbody>\n",
       "</table>\n",
       "<p>5 rows × 27 columns</p>\n",
       "</div>"
      ],
      "text/plain": [
       "                          uniq_id_x  \\\n",
       "0  d18bc79994ff35a2bca40977f81c4bc7   \n",
       "1  d2a5ad88091a614e2a45987ad967250f   \n",
       "2  aae6a185a8dde153e40d8a6ed271998d   \n",
       "3  b31700da42b1a5363e7243a498e1ebd3   \n",
       "4  a00bbd447d31c7c687e580c79bbf354d   \n",
       "\n",
       "                                                Name  \\\n",
       "0     St. Johns Bay® Jamie Womens Suede Slouch Boots   \n",
       "1  Samsung 7.5 Cu. Ft. Electric Dryer with Steam Dry   \n",
       "2        GE® ENERGY STAR® 7.8 Cu. ft. Electric Dryer   \n",
       "3                      Samsung 7.5 Cu. Ft. Gas Dryer   \n",
       "4  LG ENERGY STAR® 7.4 Cu. Ft. Ultra Large Capaci...   \n",
       "\n",
       "                                     description_x_x   Price  Av_Score  \\\n",
       "0  Our Jamie suede slouch boots are soft, supple ...   223.0  3.800000   \n",
       "1  true Skip the dry cleaners with this powerful ...  1063.0  2.454545   \n",
       "2  true Meeting or exceeding federal guidelines f...  1063.0  3.375000   \n",
       "3  true Get all the power you need with this elec...  1063.0  3.250000   \n",
       "4  true Getting your laundry fresh and dry has ne...  1063.0  3.222222   \n",
       "\n",
       "            sku                                         name_title  \\\n",
       "0  pp5006480004    St. John's Bay® Jamie Womens Suede Slouch Boots   \n",
       "1  pp5006420444  Samsung 7.5 Cu. Ft. Electric Dryer with Steam Dry   \n",
       "2  pp5006301041        GE® ENERGY STAR® 7.8 Cu. ft. Electric Dryer   \n",
       "3  pp5006420604                      Samsung 7.5 Cu. Ft. Gas Dryer   \n",
       "4  pp5006380172  LG ENERGY STAR® 7.4 Cu. Ft. Ultra Large Capaci...   \n",
       "\n",
       "                                       description_y list_price sale_price  \\\n",
       "0  Our Jamie suede slouch boots are soft, supple ...     223.00      66.90   \n",
       "1  true Skip the dry cleaners with this powerful ...    1063.00     956.58   \n",
       "2  true Meeting or exceeding federal guidelines f...    1063.00     956.58   \n",
       "3  true Get all the power you need with this elec...    1063.00     767.39   \n",
       "4  true Getting your laundry fresh and dry has ne...    1063.00     826.52   \n",
       "\n",
       "   ...                                            Reviews  \\\n",
       "0  ...  [{'User': 'tpjz4113', 'Review': 'every time I ...   \n",
       "1  ...  [{'User': 'yaal4342', 'Review': 'After two loa...   \n",
       "2  ...  [{'User': 'obfo3424', 'Review': 'Ive only had ...   \n",
       "3  ...  [{'User': 'qoed4212', 'Review': 'I love the fe...   \n",
       "4  ...  [{'User': 'tcwd2342', 'Review': 'I popped in m...   \n",
       "\n",
       "                                         Bought With  Sentiment  \\\n",
       "0  [16064243a2fb997eb77852b200dbf7f9, cb0768924f7...   0.220000   \n",
       "1  [fd5481319128d684c6778910529ee9db, e17fc1a2ad3...   0.224026   \n",
       "2  [5c9646aa07ba1087640af66d1ea4a528, 102b1adda81...   0.208333   \n",
       "3  [2841e1f47d569c3faf3eefc032c43d0a, 4c475183c38...   0.236147   \n",
       "4  [aca66ae822b34e3470d7cf68675f04a5, b07c381dd99...   0.196710   \n",
       "\n",
       "  Sentiment_Label uniq_id_y  \\\n",
       "0        Positive  10248063   \n",
       "1        Positive  10037175   \n",
       "2        Positive  10037175   \n",
       "3        Positive  10037175   \n",
       "4        Positive  10037175   \n",
       "\n",
       "                                         ProductName     ProductBrand Gender  \\\n",
       "0  U.S. Polo Assn. Men Navy Blue Solid Trunks I64...  U.S. Polo Assn.    Men   \n",
       "1                    Shaily Orange Solid Satin Saree           Shaily  Women   \n",
       "2                    Shaily Orange Solid Satin Saree           Shaily  Women   \n",
       "3                    Shaily Orange Solid Satin Saree           Shaily  Women   \n",
       "4                    Shaily Orange Solid Satin Saree           Shaily  Women   \n",
       "\n",
       "  NumImages                                    description_x_y  \n",
       "0         4  Navy blue solid trunks, with an outer elastica...  \n",
       "1         5  Design Detail:Orange   solid saree and has an ...  \n",
       "2         5  Design Detail:Orange   solid saree and has an ...  \n",
       "3         5  Design Detail:Orange   solid saree and has an ...  \n",
       "4         5  Design Detail:Orange   solid saree and has an ...  \n",
       "\n",
       "[5 rows x 27 columns]"
      ]
     },
     "execution_count": 29,
     "metadata": {},
     "output_type": "execute_result"
    }
   ],
   "source": [
    "#common key to be merged\n",
    "common_key = 'Price'\n",
    "\n",
    "# Merge the (merged_data) DataFrame with the (new_data) DataFrame based on the common key\n",
    "augmented_data = pd.merge(merged_data, new_data, on='Price', how='inner')\n",
    "\n",
    "augmented_data.head() # Displays the first few rows of the merged data"
   ]
  },
  {
   "cell_type": "markdown",
   "metadata": {},
   "source": [
    "Further Exploration of the Augmented data ('augmented_data')"
   ]
  },
  {
   "cell_type": "code",
   "execution_count": 30,
   "metadata": {},
   "outputs": [
    {
     "name": "stdout",
     "output_type": "stream",
     "text": [
      "<class 'pandas.core.frame.DataFrame'>\n",
      "Int64Index: 11 entries, 0 to 10\n",
      "Data columns (total 27 columns):\n",
      " #   Column                  Non-Null Count  Dtype  \n",
      "---  ------                  --------------  -----  \n",
      " 0   uniq_id_x               11 non-null     object \n",
      " 1   Name                    11 non-null     object \n",
      " 2   description_x_x         11 non-null     object \n",
      " 3   Price                   11 non-null     float64\n",
      " 4   Av_Score                11 non-null     float64\n",
      " 5   sku                     11 non-null     object \n",
      " 6   name_title              11 non-null     object \n",
      " 7   description_y           11 non-null     object \n",
      " 8   list_price              11 non-null     object \n",
      " 9   sale_price              11 non-null     object \n",
      " 10  category                11 non-null     object \n",
      " 11  category_tree           11 non-null     object \n",
      " 12  average_product_rating  11 non-null     float64\n",
      " 13  product_url             11 non-null     object \n",
      " 14  product_image_urls      11 non-null     object \n",
      " 15  brand                   11 non-null     object \n",
      " 16  total_number_reviews    11 non-null     int64  \n",
      " 17  Reviews                 11 non-null     object \n",
      " 18  Bought With             11 non-null     object \n",
      " 19  Sentiment               11 non-null     float64\n",
      " 20  Sentiment_Label         11 non-null     object \n",
      " 21  uniq_id_y               11 non-null     int64  \n",
      " 22  ProductName             11 non-null     object \n",
      " 23  ProductBrand            11 non-null     object \n",
      " 24  Gender                  11 non-null     object \n",
      " 25  NumImages               11 non-null     int64  \n",
      " 26  description_x_y         11 non-null     object \n",
      "dtypes: float64(4), int64(3), object(20)\n",
      "memory usage: 2.4+ KB\n"
     ]
    },
    {
     "data": {
      "text/html": [
       "<div>\n",
       "<style scoped>\n",
       "    .dataframe tbody tr th:only-of-type {\n",
       "        vertical-align: middle;\n",
       "    }\n",
       "\n",
       "    .dataframe tbody tr th {\n",
       "        vertical-align: top;\n",
       "    }\n",
       "\n",
       "    .dataframe thead th {\n",
       "        text-align: right;\n",
       "    }\n",
       "</style>\n",
       "<table border=\"1\" class=\"dataframe\">\n",
       "  <thead>\n",
       "    <tr style=\"text-align: right;\">\n",
       "      <th></th>\n",
       "      <th>Price</th>\n",
       "      <th>Av_Score</th>\n",
       "      <th>average_product_rating</th>\n",
       "      <th>total_number_reviews</th>\n",
       "      <th>Sentiment</th>\n",
       "      <th>uniq_id_y</th>\n",
       "      <th>NumImages</th>\n",
       "    </tr>\n",
       "  </thead>\n",
       "  <tbody>\n",
       "    <tr>\n",
       "      <th>count</th>\n",
       "      <td>11.000000</td>\n",
       "      <td>11.000000</td>\n",
       "      <td>11.000000</td>\n",
       "      <td>11.000000</td>\n",
       "      <td>11.000000</td>\n",
       "      <td>1.100000e+01</td>\n",
       "      <td>11.000000</td>\n",
       "    </tr>\n",
       "    <tr>\n",
       "      <th>mean</th>\n",
       "      <td>1105.181818</td>\n",
       "      <td>3.456566</td>\n",
       "      <td>3.456566</td>\n",
       "      <td>7.818182</td>\n",
       "      <td>0.249146</td>\n",
       "      <td>1.004891e+07</td>\n",
       "      <td>5.545455</td>\n",
       "    </tr>\n",
       "    <tr>\n",
       "      <th>std</th>\n",
       "      <td>444.557267</td>\n",
       "      <td>0.619290</td>\n",
       "      <td>0.619290</td>\n",
       "      <td>3.429816</td>\n",
       "      <td>0.073019</td>\n",
       "      <td>7.635080e+04</td>\n",
       "      <td>1.213560</td>\n",
       "    </tr>\n",
       "    <tr>\n",
       "      <th>min</th>\n",
       "      <td>223.000000</td>\n",
       "      <td>2.454545</td>\n",
       "      <td>2.454545</td>\n",
       "      <td>2.000000</td>\n",
       "      <td>0.194268</td>\n",
       "      <td>1.000128e+07</td>\n",
       "      <td>4.000000</td>\n",
       "    </tr>\n",
       "    <tr>\n",
       "      <th>25%</th>\n",
       "      <td>882.000000</td>\n",
       "      <td>3.236111</td>\n",
       "      <td>3.236111</td>\n",
       "      <td>6.500000</td>\n",
       "      <td>0.195489</td>\n",
       "      <td>1.000128e+07</td>\n",
       "      <td>5.000000</td>\n",
       "    </tr>\n",
       "    <tr>\n",
       "      <th>50%</th>\n",
       "      <td>1063.000000</td>\n",
       "      <td>3.363636</td>\n",
       "      <td>3.363636</td>\n",
       "      <td>8.000000</td>\n",
       "      <td>0.220000</td>\n",
       "      <td>1.003718e+07</td>\n",
       "      <td>5.000000</td>\n",
       "    </tr>\n",
       "    <tr>\n",
       "      <th>75%</th>\n",
       "      <td>1570.000000</td>\n",
       "      <td>3.587500</td>\n",
       "      <td>3.587500</td>\n",
       "      <td>11.000000</td>\n",
       "      <td>0.285699</td>\n",
       "      <td>1.003718e+07</td>\n",
       "      <td>7.000000</td>\n",
       "    </tr>\n",
       "    <tr>\n",
       "      <th>max</th>\n",
       "      <td>1570.000000</td>\n",
       "      <td>4.500000</td>\n",
       "      <td>4.500000</td>\n",
       "      <td>11.000000</td>\n",
       "      <td>0.402083</td>\n",
       "      <td>1.024806e+07</td>\n",
       "      <td>7.000000</td>\n",
       "    </tr>\n",
       "  </tbody>\n",
       "</table>\n",
       "</div>"
      ],
      "text/plain": [
       "             Price   Av_Score  average_product_rating  total_number_reviews  \\\n",
       "count    11.000000  11.000000               11.000000             11.000000   \n",
       "mean   1105.181818   3.456566                3.456566              7.818182   \n",
       "std     444.557267   0.619290                0.619290              3.429816   \n",
       "min     223.000000   2.454545                2.454545              2.000000   \n",
       "25%     882.000000   3.236111                3.236111              6.500000   \n",
       "50%    1063.000000   3.363636                3.363636              8.000000   \n",
       "75%    1570.000000   3.587500                3.587500             11.000000   \n",
       "max    1570.000000   4.500000                4.500000             11.000000   \n",
       "\n",
       "       Sentiment     uniq_id_y  NumImages  \n",
       "count  11.000000  1.100000e+01  11.000000  \n",
       "mean    0.249146  1.004891e+07   5.545455  \n",
       "std     0.073019  7.635080e+04   1.213560  \n",
       "min     0.194268  1.000128e+07   4.000000  \n",
       "25%     0.195489  1.000128e+07   5.000000  \n",
       "50%     0.220000  1.003718e+07   5.000000  \n",
       "75%     0.285699  1.003718e+07   7.000000  \n",
       "max     0.402083  1.024806e+07   7.000000  "
      ]
     },
     "execution_count": 30,
     "metadata": {},
     "output_type": "execute_result"
    }
   ],
   "source": [
    "augmented_data.info()  # Display information about the data types and missing values in the Products dataframe\n",
    "augmented_data.describe()  # Display summary statistics for numerical columns in the Users dataframe"
   ]
  },
  {
   "cell_type": "markdown",
   "metadata": {},
   "source": [
    "### Data Visualization for the Augmented data ('augmented_data')"
   ]
  },
  {
   "cell_type": "markdown",
   "metadata": {},
   "source": [
    "* Data visualization was constructed to  understand the temporal dynamics of the augmented data, identify trends and patterns.\n",
    "* The code below utilizes matplotlib.pyplot to create various charts and graphs."
   ]
  },
  {
   "cell_type": "code",
   "execution_count": 31,
   "metadata": {},
   "outputs": [
    {
     "data": {
      "image/png": "[encoded data removed]",
      "text/plain": [
       "<Figure size 864x576 with 1 Axes>"
      ]
     },
     "metadata": {},
     "output_type": "display_data"
    },
    {
     "data": {
      "image/png": "[encoded data removed]",
      "text/plain": [
       "<Figure size 864x576 with 1 Axes>"
      ]
     },
     "metadata": {},
     "output_type": "display_data"
    },
    {
     "data": {
      "text/plain": [
       "'\\nThe x-axis represents the product prices.\\nThe y-axis represents the average scores.\\nDifferent colors are used to differentiate between products for different genders\\n'"
      ]
     },
     "execution_count": 31,
     "metadata": {},
     "output_type": "execute_result"
    }
   ],
   "source": [
    "# Create a bar chart for the total number of reviews for each product\n",
    "sns.set(style=\"whitegrid\") # Sets the style of seaborn\n",
    "plt.figure(figsize=(12, 8))\n",
    "sns.barplot(x='total_number_reviews', y='ProductName', data=augmented_data, hue='Gender', ci=None, orient='h')\n",
    "# The below sets labels and title\n",
    "plt.xlabel('Total Number of Reviews')\n",
    "plt.ylabel('Product Name')\n",
    "plt.title('Total Number of Reviews for Each Product')\n",
    "plt.show() # Show the plot\n",
    "'''\n",
    "The x-axis represents the total number of reviews.\n",
    "The y-axis represents the product names.\n",
    "The hue parameter is used to differentiate between products for different genders\n",
    "'''\n",
    "\n",
    "# Create a scatter plot for the relationship between product prices and average scores\n",
    "\n",
    "sns.set(style=\"whitegrid\") # Sets the style of seaborn\n",
    "plt.figure(figsize=(12, 8))\n",
    "sns.scatterplot(x='Price', y='Av_Score', data=augmented_data, hue='Gender')\n",
    "# Set labels and title\n",
    "plt.xlabel('Product Price')\n",
    "plt.ylabel('Average Score')\n",
    "plt.title('Relationship Between Product Prices and Average Scores')\n",
    "plt.show() # Show the plot\n",
    "\n",
    "'''\n",
    "The x-axis represents the product prices.\n",
    "The y-axis represents the average scores.\n",
    "Different colors are used to differentiate between products for different genders\n",
    "'''\n"
   ]
  },
  {
   "cell_type": "markdown",
   "metadata": {},
   "source": [
    "### Recommendation"
   ]
  },
  {
   "cell_type": "markdown",
   "metadata": {},
   "source": [
    " Based on average product reviews and analysis of the top 10 products, here are possible recommendations for JCPenny:\n",
    "\n",
    "-__Quality Improvement for Low-Rated Products__:\n",
    "\n",
    "* Identify products with consistently low average review ratings. A low average rating can be caused by a variety of reasons, including poor product quality, functionality issues, inadequate customer support, and unmet expectations. This can be improved by improving the manufacturing process, materials used or product design. Continuous quality control ensures that our products meet or exceed customer expectations.\n",
    "\n",
    "-__Promote highly rated products__:\n",
    "\n",
    "* Highlight and promote products with a high review average.\n",
    "* Use positive customer reviews in marketing materials and product descriptions to build trust and attract more customers.\n",
    "\n",
    "-__Adjust marketing strategy__:\n",
    "\n",
    "* Adjust  marketing strategy based on the 10 most viewed products.\n",
    "* Also including these products in the marketing campaigns and promotions.\n",
    "\n",
    "-__Customer-centric approach__:\n",
    "\n",
    "* Prioritize products that receive high levels of customer engagement and positive feedback.\n",
    "* Align product development strategies with customer needs and wants.\n",
    "\n",
    "\n",
    "\n"
   ]
  },
  {
   "cell_type": "code",
   "execution_count": null,
   "metadata": {},
   "outputs": [],
   "source": []
  }
 ],
 "metadata": {
  "kernelspec": {
   "display_name": "Python 3 (ipykernel)",
   "language": "python",
   "name": "python3"
  },
  "language_info": {
   "codemirror_mode": {
    "name": "ipython",
    "version": 3
   },
   "file_extension": ".py",
   "mimetype": "text/x-python",
   "name": "python",
   "nbconvert_exporter": "python",
   "pygments_lexer": "ipython3",
   "version": "3.9.12"
  }
 },
 "nbformat": 4,
 "nbformat_minor": 2
}
